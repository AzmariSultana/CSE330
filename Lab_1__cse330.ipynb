{
  "nbformat": 4,
  "nbformat_minor": 0,
  "metadata": {
    "colab": {
      "provenance": [],
      "include_colab_link": true
    },
    "kernelspec": {
      "name": "python3",
      "display_name": "Python 3"
    },
    "language_info": {
      "name": "python"
    }
  },
  "cells": [
    {
      "cell_type": "markdown",
      "metadata": {
        "id": "view-in-github",
        "colab_type": "text"
      },
      "source": [
        "<a href=\"https://colab.research.google.com/github/AzmariSultana/CSE330/blob/main/Lab_1__cse330.ipynb\" target=\"_parent\"><img src=\"https://colab.research.google.com/assets/colab-badge.svg\" alt=\"Open In Colab\"/></a>"
      ]
    },
    {
      "cell_type": "markdown",
      "source": [
        "Variables"
      ],
      "metadata": {
        "id": "2tk_oRd9mQMJ"
      }
    },
    {
      "cell_type": "code",
      "source": [
        "#Declaring variables\n",
        "\n",
        "a = 123           #integer\n",
        "b = 1.23          #float\n",
        "c = 1 + 2j        #complex\n",
        "d = \"Hello World\" #string\n",
        "e = True          #boolean true\n",
        "f =  False        #boolean false\n",
        "\n",
        "#Printing the variables\n",
        "\n",
        "print (a)\n",
        "print (b)\n",
        "print (c)\n",
        "print (d)\n",
        "print (e)\n",
        "print (f)"
      ],
      "metadata": {
        "colab": {
          "base_uri": "https://localhost:8080/"
        },
        "id": "dSu1cJjLmSNz",
        "outputId": "eca19419-7491-4111-b879-65b210d7e2c6"
      },
      "execution_count": null,
      "outputs": [
        {
          "output_type": "stream",
          "name": "stdout",
          "text": [
            "123\n",
            "1.23\n",
            "(1+2j)\n",
            "Hello World\n",
            "True\n",
            "False\n"
          ]
        }
      ]
    },
    {
      "cell_type": "code",
      "source": [
        "type(c)"
      ],
      "metadata": {
        "colab": {
          "base_uri": "https://localhost:8080/"
        },
        "id": "r9sBNCzambh9",
        "outputId": "87ef2705-5c7a-4320-91f8-345ea80c13bf"
      },
      "execution_count": null,
      "outputs": [
        {
          "output_type": "execute_result",
          "data": {
            "text/plain": [
              "complex"
            ]
          },
          "metadata": {},
          "execution_count": 3
        }
      ]
    },
    {
      "cell_type": "code",
      "source": [
        "print (5 + 2)\n",
        "print (5 - 2)\n",
        "print (5 * 2)\n",
        "print (5 / 2)\n",
        "print(5//2)\n",
        "print (5 % 2)     #Mod operator. Returns remainder\n",
        "print (2 ** 4)    #Power"
      ],
      "metadata": {
        "colab": {
          "base_uri": "https://localhost:8080/"
        },
        "id": "qS2qqHYmmroM",
        "outputId": "68cf8d2d-6bc6-45b3-d939-87829fb2f9b0"
      },
      "execution_count": null,
      "outputs": [
        {
          "output_type": "stream",
          "name": "stdout",
          "text": [
            "7\n",
            "3\n",
            "10\n",
            "2.5\n",
            "2\n",
            "1\n",
            "16\n"
          ]
        }
      ]
    },
    {
      "cell_type": "code",
      "source": [
        "print (\"The current value of a is\", a)\n",
        "print (\"The current value of a is\", a, end = \"\\n\\n\")\n",
        "print (\"Hello\",\"\\n\",123)"
      ],
      "metadata": {
        "colab": {
          "base_uri": "https://localhost:8080/"
        },
        "id": "VMXLQWpnm5cV",
        "outputId": "60e4b6d9-a0b1-4eef-e68c-b52ac1fb9184"
      },
      "execution_count": null,
      "outputs": [
        {
          "output_type": "stream",
          "name": "stdout",
          "text": [
            "The current value of a is 123\n",
            "The current value of a is 123\n",
            "\n",
            "Hello \n",
            " 123\n"
          ]
        }
      ]
    },
    {
      "cell_type": "markdown",
      "source": [
        "**String **"
      ],
      "metadata": {
        "id": "Lcp9zH6Gnhku"
      }
    },
    {
      "cell_type": "code",
      "source": [
        "x = \"Hi Students!\"\n",
        "y = \"My name is Sumaiya.\"\n",
        "z = x + y\n",
        "print (z)"
      ],
      "metadata": {
        "colab": {
          "base_uri": "https://localhost:8080/"
        },
        "id": "N9atklWgnbZc",
        "outputId": "2a8f93ae-bd8e-4dc2-f93f-5d2bc6574d59"
      },
      "execution_count": null,
      "outputs": [
        {
          "output_type": "stream",
          "name": "stdout",
          "text": [
            "Hi Students!My name is Sumaiya.\n"
          ]
        }
      ]
    },
    {
      "cell_type": "code",
      "source": [
        "#Accessing String with character position number. Space is also a character\n",
        "print (y[0])\n",
        "print (y[5])\n",
        "print (len(x))\n",
        "print (y[len(y)-1])\n",
        "print(y[-1])"
      ],
      "metadata": {
        "colab": {
          "base_uri": "https://localhost:8080/"
        },
        "id": "fkb_yf4qn0J_",
        "outputId": "685fb106-43d8-46d5-f1e1-c6fb0e3bd06f"
      },
      "execution_count": null,
      "outputs": [
        {
          "output_type": "stream",
          "name": "stdout",
          "text": [
            "M\n",
            "m\n",
            "12\n",
            ".\n",
            ".\n"
          ]
        }
      ]
    },
    {
      "cell_type": "code",
      "source": [
        "print (y.upper())   #All uppercase\n",
        "print (y.lower())   #All lowercase\n",
        "print (y.title())   #Title case - Every word first letter uppercase"
      ],
      "metadata": {
        "colab": {
          "base_uri": "https://localhost:8080/"
        },
        "id": "IFru02OBoRc5",
        "outputId": "0de4b096-5989-4b73-9f4d-933e97f827e0"
      },
      "execution_count": null,
      "outputs": [
        {
          "output_type": "stream",
          "name": "stdout",
          "text": [
            "MY NAME IS SUMAIYA.\n",
            "my name is sumaiya.\n",
            "My Name Is Sumaiya.\n"
          ]
        }
      ]
    },
    {
      "cell_type": "code",
      "source": [
        "s = \"   My name is Sumaiya   \"\n",
        "print (s.strip())   #Strips spaces from starting or ending positions\n",
        "print (s.strip().title())   #Combination of multiple methods - works sequentially"
      ],
      "metadata": {
        "colab": {
          "base_uri": "https://localhost:8080/"
        },
        "id": "36p3eCddoZ0y",
        "outputId": "e75774b0-57e1-4d1e-83d7-927dd9a9ba19"
      },
      "execution_count": null,
      "outputs": [
        {
          "output_type": "stream",
          "name": "stdout",
          "text": [
            "My name is Sumaiya\n",
            "My Name Is Sumaiya\n"
          ]
        }
      ]
    },
    {
      "cell_type": "code",
      "source": [
        "s = \"My name is Sumaiya\"\n",
        "print (s.find(\"is\"))    #Returns 1st letter of the intended word\n",
        "print (s.find(\"hello\")) #Not in the string\n",
        "print (s.find (\"a\"))    #Returns 1st appearence position of the intended letter\n",
        "\n",
        "\"name\" in s"
      ],
      "metadata": {
        "colab": {
          "base_uri": "https://localhost:8080/"
        },
        "id": "Ks0UshDPpGp3",
        "outputId": "1b1911ae-9e99-48f5-f862-bae6243afe27"
      },
      "execution_count": null,
      "outputs": [
        {
          "output_type": "stream",
          "name": "stdout",
          "text": [
            "8\n",
            "-1\n",
            "4\n"
          ]
        },
        {
          "output_type": "execute_result",
          "data": {
            "text/plain": [
              "True"
            ]
          },
          "metadata": {},
          "execution_count": 28
        }
      ]
    },
    {
      "cell_type": "code",
      "source": [
        "m = \"My name is Sumaiya\"\n",
        "m_new = m.replace(\"Sumaiya\", \"Tasneem\")\n",
        "print (m_new)"
      ],
      "metadata": {
        "colab": {
          "base_uri": "https://localhost:8080/"
        },
        "id": "BrgjdW1qpR8f",
        "outputId": "708dee97-0ed3-405d-e0db-252a5c67cc0c"
      },
      "execution_count": null,
      "outputs": [
        {
          "output_type": "stream",
          "name": "stdout",
          "text": [
            "My name is Tasneem\n"
          ]
        }
      ]
    },
    {
      "cell_type": "code",
      "source": [
        "#slicing\n",
        "s = \"I love Burger\"\n",
        "\n",
        "#m[a:b] -> Return from index a up until index b (b excluded)\n",
        "print (s[0:5])\n",
        "print (s[:5])\n",
        "print (s[5:])\n",
        "print (s[-4:])"
      ],
      "metadata": {
        "colab": {
          "base_uri": "https://localhost:8080/"
        },
        "id": "Kw5IZ_aipSJG",
        "outputId": "30f837fb-1fc1-4494-817b-7d9480aec593"
      },
      "execution_count": null,
      "outputs": [
        {
          "output_type": "stream",
          "name": "stdout",
          "text": [
            "I lov\n",
            "I lov\n",
            "e Burger\n",
            "rger\n"
          ]
        }
      ]
    },
    {
      "cell_type": "markdown",
      "source": [
        "**USER INPUT**"
      ],
      "metadata": {
        "id": "u8--L4llqfxK"
      }
    },
    {
      "cell_type": "code",
      "source": [
        "username = input(\"Enter username:\")\n",
        "print(\"Username is: \" + username)\n",
        "print(username*3)\n",
        "num = int(input(\"Enter number:\"))\n",
        "print (num * 2)"
      ],
      "metadata": {
        "colab": {
          "base_uri": "https://localhost:8080/"
        },
        "id": "lxPEl9IapSTq",
        "outputId": "b3401ddc-006f-4372-d84a-47b40ebe5822"
      },
      "execution_count": null,
      "outputs": [
        {
          "output_type": "stream",
          "name": "stdout",
          "text": [
            "Enter username:Sumaiya\n",
            "Username is: Sumaiya\n",
            "SumaiyaSumaiyaSumaiya\n",
            "Enter number:2\n",
            "4\n"
          ]
        }
      ]
    },
    {
      "cell_type": "markdown",
      "source": [
        "**Condition**"
      ],
      "metadata": {
        "id": "Er5PFcbDq_et"
      }
    },
    {
      "cell_type": "code",
      "source": [
        "x = 5\n",
        "y = 5\n",
        "\n",
        "if x > y:\n",
        "  print(\"Maximum is x\")\n",
        "elif x == y:\n",
        "  print (\"x and y are equal\")\n",
        "else:\n",
        "  print (\"Maximum is y\")"
      ],
      "metadata": {
        "colab": {
          "base_uri": "https://localhost:8080/"
        },
        "id": "uXR-IXGcrBtu",
        "outputId": "259c4324-502d-422e-b594-44f9dba4354a"
      },
      "execution_count": null,
      "outputs": [
        {
          "output_type": "stream",
          "name": "stdout",
          "text": [
            "x and y are equal\n"
          ]
        }
      ]
    },
    {
      "cell_type": "code",
      "source": [
        "#and - Both conditions need to be True\n",
        "a = 200\n",
        "b = 10\n",
        "c = 500\n",
        "if a > b and c > a:\n",
        "  print(\"Both conditions are True\")\n",
        "else:\n",
        "  print(\"Negative!!\")"
      ],
      "metadata": {
        "colab": {
          "base_uri": "https://localhost:8080/"
        },
        "id": "wjb_GHYArFq1",
        "outputId": "168898be-0c95-4f32-a030-2dea370c8f34"
      },
      "execution_count": null,
      "outputs": [
        {
          "output_type": "stream",
          "name": "stdout",
          "text": [
            "Both conditions are True\n"
          ]
        }
      ]
    },
    {
      "cell_type": "code",
      "source": [
        "#or - Either one of the conditions = True should be enough\n",
        "a = 200\n",
        "b = 10\n",
        "c = 500\n",
        "if a > b or a > c:\n",
        "  print(\"At least one of the conditions is True\")\n",
        "else:\n",
        "  print(\"Negative!!\")"
      ],
      "metadata": {
        "colab": {
          "base_uri": "https://localhost:8080/"
        },
        "id": "4aPJavRvrNHo",
        "outputId": "74c859f9-41c7-45da-bc71-75b757fc5eb5"
      },
      "execution_count": null,
      "outputs": [
        {
          "output_type": "stream",
          "name": "stdout",
          "text": [
            "At least one of the conditions is True\n"
          ]
        }
      ]
    },
    {
      "cell_type": "code",
      "source": [
        "#nested\n",
        "x = 50\n",
        "\n",
        "if x > 10:\n",
        "  print(\"Above ten!\")\n",
        "  if x > 20:\n",
        "    print(\"and also above 20!\")\n",
        "  else:\n",
        "    print(\"but not above 20!\")\n",
        "else:\n",
        "  print(\"Not even above ten!\")"
      ],
      "metadata": {
        "colab": {
          "base_uri": "https://localhost:8080/"
        },
        "id": "RjFSgVdcrVfG",
        "outputId": "a0ab3ca2-6344-4c0d-e381-63cdde882329"
      },
      "execution_count": null,
      "outputs": [
        {
          "output_type": "stream",
          "name": "stdout",
          "text": [
            "Above ten!\n",
            "and also above 20!\n"
          ]
        }
      ]
    },
    {
      "cell_type": "code",
      "source": [
        "#pass statement - Can not leave any block blank. Use pass\n",
        "\n",
        "a = 10\n",
        "b = 20\n",
        "\n",
        "if b > a:\n",
        "  pass\n"
      ],
      "metadata": {
        "id": "xlJ5QBj1rc0R"
      },
      "execution_count": null,
      "outputs": []
    },
    {
      "cell_type": "markdown",
      "source": [
        "List\n"
      ],
      "metadata": {
        "id": "fnVK1JFTsXEx"
      }
    },
    {
      "cell_type": "code",
      "source": [
        "#Initializing\n",
        "list = [1, 2, 3, 4, 5]\n",
        "print(list)\n",
        "\n",
        "mixed_list = [1, 2.5, \"hello\", [1, 2, 3]]\n",
        "print(mixed_list[3])"
      ],
      "metadata": {
        "colab": {
          "base_uri": "https://localhost:8080/"
        },
        "id": "dlpKmrqusYWN",
        "outputId": "a6ba8ca4-2e43-479e-e5b6-8873dd1eb6a4"
      },
      "execution_count": null,
      "outputs": [
        {
          "output_type": "stream",
          "name": "stdout",
          "text": [
            "[1, 2, 3, 4, 5]\n",
            "[1, 2, 3]\n"
          ]
        }
      ]
    },
    {
      "cell_type": "code",
      "source": [
        "#List Methods\n",
        "print(len(list))\n",
        "print(4 in list)    #Search\n",
        "\n",
        "list[2] = \"New\"     #Update value\n",
        "print(list)\n",
        "\n",
        "list.append(\"World\")    #Add new element\n",
        "print(list)\n",
        "\n",
        "\n",
        "\n",
        "list.remove(\"New\")    #Remove element\n",
        "print(list)\n",
        "list.pop(1)           #Remove using index\n",
        "print(list)\n",
        "\n",
        "list2 = [16, 55]\n",
        "joined_list = list + list2\n",
        "print(joined_list)\n"
      ],
      "metadata": {
        "colab": {
          "base_uri": "https://localhost:8080/"
        },
        "id": "hRbmgtDysdbM",
        "outputId": "9b684d91-f461-4431-8fdf-4791913bfc41"
      },
      "execution_count": null,
      "outputs": [
        {
          "output_type": "stream",
          "name": "stdout",
          "text": [
            "6\n",
            "True\n",
            "[1, 2, 'New', 4, 5, 'World']\n",
            "[1, 2, 'New', 4, 5, 'World', 'World']\n",
            "[1, 2, 4, 5, 'World', 'World']\n",
            "[1, 4, 5, 'World', 'World']\n",
            "[1, 4, 5, 'World', 'World', 16, 55]\n"
          ]
        }
      ]
    },
    {
      "cell_type": "code",
      "source": [
        "my_list = ['a', 'b', 'c', 'e', 'f', 'd']\n",
        "\n",
        "print (my_list[3])\n",
        "print (my_list[1:3])\n",
        "print (my_list[:3])\n",
        "print (my_list[3:])\n",
        "print (my_list[-3:])\n",
        "\n",
        "\n",
        "print (my_list[0:4:2])      #index+2 everytime\n",
        "print (my_list[:])          #All elements\n",
        "print (my_list[::2])\n",
        "print (my_list[::-1])       #Reverse order\n",
        "\n",
        "print (my_list[4:0:-1])"
      ],
      "metadata": {
        "colab": {
          "base_uri": "https://localhost:8080/"
        },
        "id": "U8cDIXYgs5wM",
        "outputId": "2d12abec-f119-474b-ea08-cb7896eb8cd3"
      },
      "execution_count": null,
      "outputs": [
        {
          "output_type": "stream",
          "name": "stdout",
          "text": [
            "e\n",
            "['b', 'c']\n",
            "['a', 'b', 'c']\n",
            "['e', 'f', 'd']\n",
            "['e', 'f', 'd']\n",
            "['a', 'c']\n",
            "['a', 'b', 'c', 'e', 'f', 'd']\n",
            "['a', 'c', 'f']\n",
            "['d', 'f', 'e', 'c', 'b', 'a']\n",
            "['f', 'e', 'c', 'b']\n"
          ]
        }
      ]
    },
    {
      "cell_type": "code",
      "source": [
        "#Matrix [List of list] using list\n",
        "matrix = [[1, 2, 3, 4],\n",
        "          [5, 6, 7, 8]]\n",
        "\n",
        "# |1 2 3 4|\n",
        "# |5 6 7 8|\n",
        "\n",
        "print (matrix[1][2])"
      ],
      "metadata": {
        "colab": {
          "base_uri": "https://localhost:8080/"
        },
        "id": "rRrikMQZtZ2j",
        "outputId": "84be623f-7d8b-4d96-c5a8-8addf42c6d1a"
      },
      "execution_count": null,
      "outputs": [
        {
          "output_type": "stream",
          "name": "stdout",
          "text": [
            "7\n"
          ]
        }
      ]
    },
    {
      "cell_type": "markdown",
      "source": [
        "# Tuple\n",
        "* Immutable - Items can not be modified\n",
        "* Collection of elements of multiple data types"
      ],
      "metadata": {
        "id": "CL7EalZUtdAU"
      }
    },
    {
      "cell_type": "code",
      "source": [
        "tuple = (1, 2, 3, 4, 5)\n",
        "tuple[0]\n"
      ],
      "metadata": {
        "colab": {
          "base_uri": "https://localhost:8080/"
        },
        "id": "kC-MYpTOtcAr",
        "outputId": "767bd4bb-afb2-436c-8761-6f6d4412c77d"
      },
      "execution_count": null,
      "outputs": [
        {
          "output_type": "execute_result",
          "data": {
            "text/plain": [
              "1"
            ]
          },
          "metadata": {},
          "execution_count": 49
        }
      ]
    },
    {
      "cell_type": "code",
      "source": [
        "tuple[1] = 5"
      ],
      "metadata": {
        "colab": {
          "base_uri": "https://localhost:8080/",
          "height": 141
        },
        "id": "hANqDGSJt0Jv",
        "outputId": "5c7ac8c4-cbba-4325-b4dd-4cda35ea10dc"
      },
      "execution_count": null,
      "outputs": [
        {
          "output_type": "error",
          "ename": "TypeError",
          "evalue": "'tuple' object does not support item assignment",
          "traceback": [
            "\u001b[0;31m---------------------------------------------------------------------------\u001b[0m",
            "\u001b[0;31mTypeError\u001b[0m                                 Traceback (most recent call last)",
            "\u001b[0;32m<ipython-input-51-e78b7d173c5c>\u001b[0m in \u001b[0;36m<cell line: 0>\u001b[0;34m()\u001b[0m\n\u001b[0;32m----> 1\u001b[0;31m \u001b[0mtuple\u001b[0m\u001b[0;34m[\u001b[0m\u001b[0;36m1\u001b[0m\u001b[0;34m]\u001b[0m \u001b[0;34m=\u001b[0m \u001b[0;36m5\u001b[0m\u001b[0;34m\u001b[0m\u001b[0;34m\u001b[0m\u001b[0m\n\u001b[0m",
            "\u001b[0;31mTypeError\u001b[0m: 'tuple' object does not support item assignment"
          ]
        }
      ]
    },
    {
      "cell_type": "markdown",
      "source": [
        "#Set\n",
        "* Immutable - Items can not be modified\n",
        "* Unordered - No index\n",
        "* No duplicates allowed\n",
        "\n"
      ],
      "metadata": {
        "id": "n2G9PquIuDvD"
      }
    },
    {
      "cell_type": "code",
      "source": [
        "set = {\"apple\", \"banana\", \"cherry\", \"banana\"}\n",
        "print(set)\n",
        "\n",
        "set.add(\"orange\")\n",
        "print(set)\n",
        "\n",
        "set.remove(\"banana\")\n",
        "print(set)"
      ],
      "metadata": {
        "colab": {
          "base_uri": "https://localhost:8080/"
        },
        "id": "GbyND2J_t3q_",
        "outputId": "db1fc878-790b-4868-ec42-78d39ab53e5c"
      },
      "execution_count": null,
      "outputs": [
        {
          "output_type": "stream",
          "name": "stdout",
          "text": [
            "{'apple', 'banana', 'cherry'}\n",
            "{'apple', 'banana', 'cherry', 'orange'}\n",
            "{'apple', 'cherry', 'orange'}\n"
          ]
        }
      ]
    },
    {
      "cell_type": "markdown",
      "source": [
        "# Dictionary\n",
        "* Values stored as key:value pair\n",
        "* Mutable\n",
        "* Key can be of any types but can not be a duplicate value\n"
      ],
      "metadata": {
        "id": "Xj4430DXuMoL"
      }
    },
    {
      "cell_type": "code",
      "source": [
        "cricketers = {\n",
        "    75: \"Shakib\",\n",
        "    2: \"Mashrafee\",\n",
        "    28: \"Tamim\",\n",
        "    \"Extra\": \"Riad\"\n",
        "}\n",
        "\n",
        "print(cricketers)\n",
        "\n",
        "\n",
        "print(cricketers[\"Extra\"])      #Accessing elements\n",
        "\n",
        "cricketers[\"Extra\"] = \"Mahmudullah\"\n",
        "print(cricketers)\n",
        "\n",
        "cricketers.update({15:\"Mushfiq\"})\n",
        "print(cricketers)\n",
        "\n",
        "cricketers.pop(\"Extra\")\n",
        "print(cricketers)"
      ],
      "metadata": {
        "colab": {
          "base_uri": "https://localhost:8080/"
        },
        "id": "hAI-C8OjuMAz",
        "outputId": "47c3fe00-c1cc-47dd-c386-ef017c0b2f03"
      },
      "execution_count": null,
      "outputs": [
        {
          "output_type": "stream",
          "name": "stdout",
          "text": [
            "{75: 'Shakib', 2: 'Mashrafee', 28: 'Tamim', 'Extra': 'Riad'}\n",
            "Riad\n",
            "{75: 'Shakib', 2: 'Mashrafee', 28: 'Tamim', 'Extra': 'Mahmudullah'}\n",
            "{75: 'Shakib', 2: 'Mashrafee', 28: 'Tamim', 'Extra': 'Mahmudullah', 15: 'Mushfiq'}\n",
            "{75: 'Shakib', 2: 'Mashrafee', 28: 'Tamim', 15: 'Mushfiq'}\n"
          ]
        }
      ]
    },
    {
      "cell_type": "markdown",
      "source": [
        "LOOP\n"
      ],
      "metadata": {
        "id": "pEJgI6MPvIGF"
      }
    },
    {
      "cell_type": "code",
      "source": [
        "list = ['a', 'b', 'c', 'd', 'e']\n",
        "\n",
        "# iterate over the list using index\n",
        "for i in range(0, len(list),1):\n",
        "    print(\"index =\", i, \"value =\", list[i])"
      ],
      "metadata": {
        "colab": {
          "base_uri": "https://localhost:8080/"
        },
        "id": "y8s8D3HNvJZN",
        "outputId": "a9bbec67-a65a-4848-a064-60f876291d34"
      },
      "execution_count": null,
      "outputs": [
        {
          "output_type": "stream",
          "name": "stdout",
          "text": [
            "index = 0 value = a\n",
            "index = 1 value = b\n",
            "index = 2 value = c\n",
            "index = 3 value = d\n",
            "index = 4 value = e\n"
          ]
        }
      ]
    },
    {
      "cell_type": "code",
      "source": [
        "#break statement - Out of the loop\n",
        "fruits = [\"apple\", \"banana\", \"cherry\"]\n",
        "for x in fruits:\n",
        "  print(x)\n",
        "  if x == \"banana\":\n",
        "    break"
      ],
      "metadata": {
        "colab": {
          "base_uri": "https://localhost:8080/"
        },
        "id": "-znFWu0pvO58",
        "outputId": "f89afedd-e4d8-4139-f52c-0c52128ea383"
      },
      "execution_count": null,
      "outputs": [
        {
          "output_type": "stream",
          "name": "stdout",
          "text": [
            "apple\n",
            "banana\n"
          ]
        }
      ]
    },
    {
      "cell_type": "code",
      "source": [
        "fruits = [\"apple\", \"banana\", \"cherry\"]\n",
        "for i in fruits:\n",
        "  if i == \"banana\":\n",
        "    continue\n",
        "  print(i)"
      ],
      "metadata": {
        "colab": {
          "base_uri": "https://localhost:8080/"
        },
        "id": "aOGTSgEwvTPt",
        "outputId": "50f7558f-aa1b-451c-8884-79b2ee6c2e09"
      },
      "execution_count": null,
      "outputs": [
        {
          "output_type": "stream",
          "name": "stdout",
          "text": [
            "apple\n",
            "cherry\n"
          ]
        }
      ]
    },
    {
      "cell_type": "code",
      "source": [
        "fruits = [\"apple\", \"banana\", \"cherry\"]\n",
        "for i in fruits:\n",
        "  if i == \"banana\":\n",
        "    pass\n",
        "  print(i)\n"
      ],
      "metadata": {
        "colab": {
          "base_uri": "https://localhost:8080/"
        },
        "id": "b2J9N8-GvXWn",
        "outputId": "0b206bff-5b8d-4f7a-996d-7312809ec353"
      },
      "execution_count": null,
      "outputs": [
        {
          "output_type": "stream",
          "name": "stdout",
          "text": [
            "apple\n",
            "banana\n",
            "cherry\n"
          ]
        }
      ]
    },
    {
      "cell_type": "code",
      "source": [
        "#Nested loop\n",
        "num_list = [1 , 2, 3]\n",
        "alphabet_list = ['a', 'b', 'c']\n",
        "\n",
        "for number in num_list:\n",
        "    print(number)\n",
        "    for letter in alphabet_list:\n",
        "        print(letter)"
      ],
      "metadata": {
        "colab": {
          "base_uri": "https://localhost:8080/"
        },
        "id": "u1YhgO8vvbIi",
        "outputId": "8d70f1bb-7049-4d9b-eceb-b5ac00e2e5b5"
      },
      "execution_count": null,
      "outputs": [
        {
          "output_type": "stream",
          "name": "stdout",
          "text": [
            "1\n",
            "a\n",
            "b\n",
            "c\n",
            "2\n",
            "a\n",
            "b\n",
            "c\n",
            "3\n",
            "a\n",
            "b\n",
            "c\n"
          ]
        }
      ]
    },
    {
      "cell_type": "markdown",
      "source": [
        "Function"
      ],
      "metadata": {
        "id": "KTrr09RvveAP"
      }
    },
    {
      "cell_type": "code",
      "source": [
        "def name_function(fname, lname):\n",
        "  print(fname, \" \", lname)\n",
        "\n",
        "name_function(\"Sumaiya\", \"Tasneem\")"
      ],
      "metadata": {
        "colab": {
          "base_uri": "https://localhost:8080/"
        },
        "id": "UfD2-gNzvdXS",
        "outputId": "f769a4fc-83c0-4235-e8a8-1a09bb94cc11"
      },
      "execution_count": null,
      "outputs": [
        {
          "output_type": "stream",
          "name": "stdout",
          "text": [
            "Sumaiya   Tasneem\n"
          ]
        }
      ]
    },
    {
      "cell_type": "code",
      "source": [
        "def sum_numbers(number1, number2):\n",
        "  result = number1+number2\n",
        "  return result\n",
        "\n",
        "x = sum_numbers(2, 3)\n",
        "print (x)"
      ],
      "metadata": {
        "colab": {
          "base_uri": "https://localhost:8080/"
        },
        "id": "Sa99cfGnvt9g",
        "outputId": "acd71109-04f5-4e59-9586-6f15770fddc0"
      },
      "execution_count": null,
      "outputs": [
        {
          "output_type": "stream",
          "name": "stdout",
          "text": [
            "5\n"
          ]
        }
      ]
    },
    {
      "cell_type": "markdown",
      "source": [
        "# Numpy\n",
        "* A Python library\n",
        "* Used for working with arrays\n",
        "* Short form of \"Numerical Python\"\n",
        "* Provides a lot of supporting functions"
      ],
      "metadata": {
        "id": "INT_z5kyv4Mf"
      }
    },
    {
      "cell_type": "code",
      "source": [
        "import numpy as np"
      ],
      "metadata": {
        "id": "1wNmk-Ikv3g3"
      },
      "execution_count": null,
      "outputs": []
    },
    {
      "cell_type": "code",
      "source": [
        "\n",
        "arr=np.array([1 , 2, 3])\n",
        "print(arr)\n",
        "print(type(arr))"
      ],
      "metadata": {
        "colab": {
          "base_uri": "https://localhost:8080/"
        },
        "id": "MPJbVgr7wxZb",
        "outputId": "e6d93247-de35-4c38-f8a4-6c5da5ac3604"
      },
      "execution_count": null,
      "outputs": [
        {
          "output_type": "stream",
          "name": "stdout",
          "text": [
            "[1 2 3]\n",
            "<class 'numpy.ndarray'>\n"
          ]
        }
      ]
    },
    {
      "cell_type": "code",
      "source": [
        "print(len(arr))\n",
        "print(arr.shape)"
      ],
      "metadata": {
        "colab": {
          "base_uri": "https://localhost:8080/"
        },
        "id": "RCloOk9MxE2T",
        "outputId": "74135218-2594-40df-f8e5-309b3ba486e1"
      },
      "execution_count": null,
      "outputs": [
        {
          "output_type": "stream",
          "name": "stdout",
          "text": [
            "3\n",
            "(3,)\n"
          ]
        }
      ]
    },
    {
      "cell_type": "code",
      "source": [
        "x = np.array([1, 2, 3, 4, 5])\n",
        "y = np.append(x, [70])\n",
        "print(y)\n",
        "print(x)    #No change in main array\n",
        "y = np.delete(x, 2)   #Delete using index\n",
        "print(x)\n",
        "print(y)"
      ],
      "metadata": {
        "colab": {
          "base_uri": "https://localhost:8080/"
        },
        "id": "FhqTfNDXxN0O",
        "outputId": "df8e25c9-516e-414f-9baf-b67ce71650da"
      },
      "execution_count": null,
      "outputs": [
        {
          "output_type": "stream",
          "name": "stdout",
          "text": [
            "[ 1  2  3  4  5 70]\n",
            "[1 2 3 4 5]\n",
            "[1 2 3 4 5]\n",
            "[1 2 4 5]\n"
          ]
        }
      ]
    },
    {
      "cell_type": "code",
      "source": [
        "#Sorting\n",
        "x = np.array([7, 8, 3, 10, 5])\n",
        "sorted_x = np.sort(x)\n",
        "print(sorted_x)     #Ascending\n",
        "print(sorted_x[3:1:-1])   #Descending - Reverse the Ascending order sorted array\n",
        "\n",
        "print(sorted_x[::-1])"
      ],
      "metadata": {
        "colab": {
          "base_uri": "https://localhost:8080/"
        },
        "id": "OaMEH7EXxVa8",
        "outputId": "5096e61b-e147-450a-8c06-da987c2401fd"
      },
      "execution_count": null,
      "outputs": [
        {
          "output_type": "stream",
          "name": "stdout",
          "text": [
            "[ 3  5  7  8 10]\n",
            "[8 7]\n",
            "[10  8  7  5  3]\n"
          ]
        }
      ]
    },
    {
      "cell_type": "code",
      "source": [
        "arr_2d = np.array([[1, 2, 3],\n",
        "                   [4, 5, 6]])\n",
        "print(arr_2d)\n",
        "\n",
        "print(len(arr_2d))\n",
        "print(arr_2d.shape)     #row, column\n",
        "print(arr_2d.ndim)      #Dimension"
      ],
      "metadata": {
        "colab": {
          "base_uri": "https://localhost:8080/"
        },
        "id": "tqjsWXEVx8FE",
        "outputId": "145f768f-f35a-48f3-80bc-d139e157bcc0"
      },
      "execution_count": null,
      "outputs": [
        {
          "output_type": "stream",
          "name": "stdout",
          "text": [
            "[[1 2 3]\n",
            " [4 5 6]]\n",
            "2\n",
            "(2, 3)\n",
            "2\n"
          ]
        }
      ]
    },
    {
      "cell_type": "code",
      "source": [
        "#indexing\n",
        "arr = np.array([1, 2, 3, 4])\n",
        "\n",
        "print(arr[0])     #1st element\n",
        "print(arr[-1])    #Last element"
      ],
      "metadata": {
        "colab": {
          "base_uri": "https://localhost:8080/"
        },
        "id": "b2n7YPTSyKZR",
        "outputId": "46ee3a55-53b4-4440-d2a6-35f6a08cbc75"
      },
      "execution_count": null,
      "outputs": [
        {
          "output_type": "stream",
          "name": "stdout",
          "text": [
            "1\n",
            "4\n"
          ]
        }
      ]
    },
    {
      "cell_type": "code",
      "source": [
        "arr = np.array([[1,2,3,4,5],\n",
        "               [6,7,8,9,10]])\n",
        "print(arr)\n",
        "\n",
        "print('4th element on 2nd row: ', arr[1, 3])"
      ],
      "metadata": {
        "colab": {
          "base_uri": "https://localhost:8080/"
        },
        "id": "dWj5d0qbyODg",
        "outputId": "0de7ccf4-bbd8-461e-b397-1666f578d2c1"
      },
      "execution_count": null,
      "outputs": [
        {
          "output_type": "stream",
          "name": "stdout",
          "text": [
            "[[ 1  2  3  4  5]\n",
            " [ 6  7  8  9 10]]\n",
            "4th element on 2nd row:  9\n"
          ]
        }
      ]
    },
    {
      "cell_type": "code",
      "source": [
        "#Slicing\n",
        "arr = np.array([1, 2, 3, 4, 5, 6, 7])\n",
        "\n",
        "print(arr[4:])\n",
        "print(arr[:4])\n",
        "print(arr[-3:-1])\n",
        "print(arr[1:5:2])"
      ],
      "metadata": {
        "colab": {
          "base_uri": "https://localhost:8080/"
        },
        "id": "YtAZ-XnxyPhK",
        "outputId": "9f86e3e4-0457-436b-997b-65fcbb7f5b5b"
      },
      "execution_count": null,
      "outputs": [
        {
          "output_type": "stream",
          "name": "stdout",
          "text": [
            "[5 6 7]\n",
            "[1 2 3 4]\n",
            "[5 6]\n",
            "[2 4]\n"
          ]
        }
      ]
    },
    {
      "cell_type": "code",
      "source": [
        "#Slicing 2-D Arrays\n",
        "arr = np.array([[1, 2, 3, 4, 5],\n",
        "                [6, 7, 8, 9, 10]])\n",
        "\n",
        "print(arr[:, 0])    #column\n",
        "print(arr[0, :])    #row\n",
        "\n",
        "#From the second row, slice elements from index 1 to index 4 (not included)\n",
        "print(arr[1, 1:4])\n",
        "\n",
        "#From both rows, slice index 1 to index 4 (not included)\n",
        "print(arr[0:2, 1:4])"
      ],
      "metadata": {
        "colab": {
          "base_uri": "https://localhost:8080/"
        },
        "id": "aORZUgexyaGi",
        "outputId": "01738a04-61c8-4050-8432-58232c8f8b4c"
      },
      "execution_count": null,
      "outputs": [
        {
          "output_type": "stream",
          "name": "stdout",
          "text": [
            "[1 6]\n",
            "[1 2 3 4 5]\n",
            "[7 8 9]\n",
            "[[2 3 4]\n",
            " [7 8 9]]\n"
          ]
        }
      ]
    },
    {
      "cell_type": "code",
      "source": [
        "#zero matrix\n",
        "x = np.zeros(2)\n",
        "\n",
        "print(x)\n",
        "\n",
        "y = np.zeros((4,2))     #row, column\n",
        "print(y)\n",
        "for i in range(0,len(x)):\n",
        "  x[i]=input()\n",
        "print(x)"
      ],
      "metadata": {
        "colab": {
          "base_uri": "https://localhost:8080/"
        },
        "id": "PyJi9aoO0FMs",
        "outputId": "27a14f18-538b-4837-89b6-eb7bf630df32"
      },
      "execution_count": null,
      "outputs": [
        {
          "output_type": "stream",
          "name": "stdout",
          "text": [
            "[0. 0.]\n",
            "[[0. 0.]\n",
            " [0. 0.]\n",
            " [0. 0.]\n",
            " [0. 0.]]\n",
            "1\n",
            "2\n",
            "[1. 2.]\n"
          ]
        }
      ]
    },
    {
      "cell_type": "code",
      "source": [
        "a = np.array([3, 4, 5])\n",
        "\n",
        "b = np.array([[1,2,3],\n",
        "              [4,5,6]])\n",
        "\n",
        "print(np.sum(a))      #Summation of all elements\n",
        "print(np.prod(a))     #Product of all elements\n",
        "\n",
        "print(np.sum(b))\n",
        "print(np.sum(b, axis=0))      #Column-wise\n",
        "print(np.sum(b, axis=1))      #Row-wise"
      ],
      "metadata": {
        "colab": {
          "base_uri": "https://localhost:8080/"
        },
        "id": "wCQ6NnRc3c5k",
        "outputId": "8c23b3e3-013a-442c-8e11-4965540853ed"
      },
      "execution_count": null,
      "outputs": [
        {
          "output_type": "stream",
          "name": "stdout",
          "text": [
            "12\n",
            "60\n",
            "21\n",
            "[5 7 9]\n",
            "[ 6 15]\n"
          ]
        }
      ]
    },
    {
      "cell_type": "code",
      "source": [
        "#Logical indexing - Identify which elements fulfill the constraint\n",
        "b = np.array([[1,2,3],[4,5,6]])\n",
        "print(b > 2)\n",
        "\n",
        "print(b[ b > 2 ])       #Extract the elements that fulfill the constraint\n",
        "b[ b > 2 ] = 100      #Replace where the constraints are fulfilled\n",
        "print(b)"
      ],
      "metadata": {
        "colab": {
          "base_uri": "https://localhost:8080/"
        },
        "id": "-ehqX1oA3rrX",
        "outputId": "4d8676dd-bb3c-4b58-f565-deb639fa0a9c"
      },
      "execution_count": null,
      "outputs": [
        {
          "output_type": "stream",
          "name": "stdout",
          "text": [
            "[[False False  True]\n",
            " [ True  True  True]]\n",
            "[3 4 5 6]\n",
            "[[  1   2 100]\n",
            " [100 100 100]]\n"
          ]
        }
      ]
    },
    {
      "cell_type": "code",
      "source": [
        "#Print row by row\n",
        "arr = np.array([[1, 2, 3],\n",
        "                [4, 5, 6]])\n",
        "for x in arr:\n",
        "  print(x)\n",
        "\n",
        "\n",
        "\n",
        "\n",
        "#Print element by element\n",
        "arr = np.array([[1, 2, 3], [4, 5, 6]])\n",
        "for x in arr:\n",
        "  for y in x:\n",
        "    print(y)"
      ],
      "metadata": {
        "colab": {
          "base_uri": "https://localhost:8080/"
        },
        "id": "rRc_06Zt38oN",
        "outputId": "d7f1bc0a-611e-4268-b895-352806c51588"
      },
      "execution_count": null,
      "outputs": [
        {
          "output_type": "stream",
          "name": "stdout",
          "text": [
            "[1 2 3]\n",
            "[4 5 6]\n",
            "1\n",
            "2\n",
            "3\n",
            "4\n",
            "5\n",
            "6\n"
          ]
        }
      ]
    },
    {
      "cell_type": "code",
      "source": [
        "#linspace - Create a random array, same difference between the numbers\n",
        "x = np.linspace(0, 100, 51)     #start, end, how many numbers\n",
        "print(x)\n",
        "\n",
        "\n",
        "\n",
        "x = np.linspace(0, 10, 9)     #No 9 integer values of same difference between 0 - 10\n",
        "print(x)\n",
        "\n",
        "\n",
        "\n",
        "#Element wise operation - same operation on every element at a time\n",
        "\n",
        "print(x + 10)\n",
        "\n",
        "\n",
        "\n",
        "\n",
        "y = np.array([1, 2, 3, 4])\n",
        "z = np.array([10, 10, 20, 30])\n",
        "\n",
        "print(y ** 2)\n",
        "print(2*y + z)\n",
        "   #[2,  4,  6,  8]\n",
        "   #[10, 10, 20, 30]"
      ],
      "metadata": {
        "colab": {
          "base_uri": "https://localhost:8080/"
        },
        "id": "6QZc7-Xe4Gg4",
        "outputId": "29acca01-0593-4e6b-8b13-1ec0e66fa2ee"
      },
      "execution_count": null,
      "outputs": [
        {
          "output_type": "stream",
          "name": "stdout",
          "text": [
            "[  0.   2.   4.   6.   8.  10.  12.  14.  16.  18.  20.  22.  24.  26.\n",
            "  28.  30.  32.  34.  36.  38.  40.  42.  44.  46.  48.  50.  52.  54.\n",
            "  56.  58.  60.  62.  64.  66.  68.  70.  72.  74.  76.  78.  80.  82.\n",
            "  84.  86.  88.  90.  92.  94.  96.  98. 100.]\n",
            "[ 0.    1.25  2.5   3.75  5.    6.25  7.5   8.75 10.  ]\n",
            "[10.   11.25 12.5  13.75 15.   16.25 17.5  18.75 20.  ]\n",
            "[ 1  4  9 16]\n",
            "[12 14 26 38]\n"
          ]
        }
      ]
    },
    {
      "cell_type": "markdown",
      "source": [
        "# Pandas\n",
        "* A Python library\n",
        "* Used to analyze and manipulate data\n"
      ],
      "metadata": {
        "id": "gTHN-5bq4Vfs"
      }
    },
    {
      "cell_type": "code",
      "source": [
        "import pandas as pd"
      ],
      "metadata": {
        "id": "bQEVu3Zo4W0t"
      },
      "execution_count": null,
      "outputs": []
    },
    {
      "cell_type": "code",
      "source": [
        "data = {\n",
        "  \"Name\": ['Arif', 'Nafis', 'Hasan'],\n",
        "  \"Age\": [35, 30, 40]\n",
        "}\n",
        "\n",
        "#load data into a DataFrame [Formated data; 2 Dimensional Data Structure]\n",
        "df = pd.DataFrame(data)\n",
        "\n",
        "print(df)\n",
        "\n",
        "\n",
        "#loc attribute - accessing the dataframe values\n",
        "print(df.loc[0])\n"
      ],
      "metadata": {
        "colab": {
          "base_uri": "https://localhost:8080/"
        },
        "id": "7x6AqQcA4eF0",
        "outputId": "4ba75f1a-07f5-4d90-8d82-b33df6204f4e"
      },
      "execution_count": null,
      "outputs": [
        {
          "output_type": "stream",
          "name": "stdout",
          "text": [
            "    Name  Age\n",
            "0   Arif   35\n",
            "1  Nafis   30\n",
            "2  Hasan   40\n",
            "Name    Arif\n",
            "Age       35\n",
            "Name: 0, dtype: object\n"
          ]
        }
      ]
    },
    {
      "cell_type": "code",
      "source": [
        "#Read csv\n",
        "df = pd.read_csv('/content/lab1_data.csv')\n",
        "print (df)          #Show first 5 and last 5 entries"
      ],
      "metadata": {
        "colab": {
          "base_uri": "https://localhost:8080/"
        },
        "id": "-33t7p9u4eOP",
        "outputId": "3fd01ffc-f0d6-42ce-87bf-d4da46ecc677"
      },
      "execution_count": null,
      "outputs": [
        {
          "output_type": "stream",
          "name": "stdout",
          "text": [
            "     Duration  Pulse  Maxpulse  Calories\n",
            "0          60    110       130     409.1\n",
            "1          60    117       145     479.0\n",
            "2          60    103       135     340.0\n",
            "3          45    109       175     282.4\n",
            "4          45    117       148     406.0\n",
            "..        ...    ...       ...       ...\n",
            "164        60    105       140     290.8\n",
            "165        60    110       145     300.0\n",
            "166        60    115       145     310.2\n",
            "167        75    120       150     320.4\n",
            "168        75    125       150     330.4\n",
            "\n",
            "[169 rows x 4 columns]\n"
          ]
        }
      ]
    },
    {
      "cell_type": "code",
      "source": [
        "print (df.to_string())        #Show all entries"
      ],
      "metadata": {
        "colab": {
          "base_uri": "https://localhost:8080/"
        },
        "id": "vZoOODbM5NY7",
        "outputId": "ff0e2f11-b2a5-47e3-9a64-8972816ff4d7"
      },
      "execution_count": null,
      "outputs": [
        {
          "output_type": "stream",
          "name": "stdout",
          "text": [
            "     Duration  Pulse  Maxpulse  Calories\n",
            "0          60    110       130     409.1\n",
            "1          60    117       145     479.0\n",
            "2          60    103       135     340.0\n",
            "3          45    109       175     282.4\n",
            "4          45    117       148     406.0\n",
            "5          60    102       127     300.0\n",
            "6          60    110       136     374.0\n",
            "7          45    104       134     253.3\n",
            "8          30    109       133     195.1\n",
            "9          60     98       124     269.0\n",
            "10         60    103       147     329.3\n",
            "11         60    100       120     250.7\n",
            "12         60    106       128     345.3\n",
            "13         60    104       132     379.3\n",
            "14         60     98       123     275.0\n",
            "15         60     98       120     215.2\n",
            "16         60    100       120     300.0\n",
            "17         45     90       112       NaN\n",
            "18         60    103       123     323.0\n",
            "19         45     97       125     243.0\n",
            "20         60    108       131     364.2\n",
            "21         45    100       119     282.0\n",
            "22         60    130       101     300.0\n",
            "23         45    105       132     246.0\n",
            "24         60    102       126     334.5\n",
            "25         60    100       120     250.0\n",
            "26         60     92       118     241.0\n",
            "27         60    103       132       NaN\n",
            "28         60    100       132     280.0\n",
            "29         60    102       129     380.3\n",
            "30         60     92       115     243.0\n",
            "31         45     90       112     180.1\n",
            "32         60    101       124     299.0\n",
            "33         60     93       113     223.0\n",
            "34         60    107       136     361.0\n",
            "35         60    114       140     415.0\n",
            "36         60    102       127     300.0\n",
            "37         60    100       120     300.0\n",
            "38         60    100       120     300.0\n",
            "39         45    104       129     266.0\n",
            "40         45     90       112     180.1\n",
            "41         60     98       126     286.0\n",
            "42         60    100       122     329.4\n",
            "43         60    111       138     400.0\n",
            "44         60    111       131     397.0\n",
            "45         60     99       119     273.0\n",
            "46         60    109       153     387.6\n",
            "47         45    111       136     300.0\n",
            "48         45    108       129     298.0\n",
            "49         60    111       139     397.6\n",
            "50         60    107       136     380.2\n",
            "51         80    123       146     643.1\n",
            "52         60    106       130     263.0\n",
            "53         60    118       151     486.0\n",
            "54         30    136       175     238.0\n",
            "55         60    121       146     450.7\n",
            "56         60    118       121     413.0\n",
            "57         45    115       144     305.0\n",
            "58         20    153       172     226.4\n",
            "59         45    123       152     321.0\n",
            "60        210    108       160    1376.0\n",
            "61        160    110       137    1034.4\n",
            "62        160    109       135     853.0\n",
            "63         45    118       141     341.0\n",
            "64         20    110       130     131.4\n",
            "65        180     90       130     800.4\n",
            "66        150    105       135     873.4\n",
            "67        150    107       130     816.0\n",
            "68         20    106       136     110.4\n",
            "69        300    108       143    1500.2\n",
            "70        150     97       129    1115.0\n",
            "71         60    109       153     387.6\n",
            "72         90    100       127     700.0\n",
            "73        150     97       127     953.2\n",
            "74         45    114       146     304.0\n",
            "75         90     98       125     563.2\n",
            "76         45    105       134     251.0\n",
            "77         45    110       141     300.0\n",
            "78        120    100       130     500.4\n",
            "79        270    100       131    1729.0\n",
            "80         30    159       182     319.2\n",
            "81         45    149       169     344.0\n",
            "82         30    103       139     151.1\n",
            "83        120    100       130     500.0\n",
            "84         45    100       120     225.3\n",
            "85         30    151       170     300.0\n",
            "86         45    102       136     234.0\n",
            "87        120    100       157    1000.1\n",
            "88         45    129       103     242.0\n",
            "89         20     83       107      50.3\n",
            "90        180    101       127     600.1\n",
            "91         45    107       137       NaN\n",
            "92         30     90       107     105.3\n",
            "93         15     80       100      50.5\n",
            "94         20    150       171     127.4\n",
            "95         20    151       168     229.4\n",
            "96         30     95       128     128.2\n",
            "97         25    152       168     244.2\n",
            "98         30    109       131     188.2\n",
            "99         90     93       124     604.1\n",
            "100        20     95       112      77.7\n",
            "101        90     90       110     500.0\n",
            "102        90     90       100     500.0\n",
            "103        90     90       100     500.4\n",
            "104        30     92       108      92.7\n",
            "105        30     93       128     124.0\n",
            "106       180     90       120     800.3\n",
            "107        30     90       120      86.2\n",
            "108        90     90       120     500.3\n",
            "109       210    137       184    1860.4\n",
            "110        60    102       124     325.2\n",
            "111        45    107       124     275.0\n",
            "112        15    124       139     124.2\n",
            "113        45    100       120     225.3\n",
            "114        60    108       131     367.6\n",
            "115        60    108       151     351.7\n",
            "116        60    116       141     443.0\n",
            "117        60     97       122     277.4\n",
            "118        60    105       125       NaN\n",
            "119        60    103       124     332.7\n",
            "120        30    112       137     193.9\n",
            "121        45    100       120     100.7\n",
            "122        60    119       169     336.7\n",
            "123        60    107       127     344.9\n",
            "124        60    111       151     368.5\n",
            "125        60     98       122     271.0\n",
            "126        60     97       124     275.3\n",
            "127        60    109       127     382.0\n",
            "128        90     99       125     466.4\n",
            "129        60    114       151     384.0\n",
            "130        60    104       134     342.5\n",
            "131        60    107       138     357.5\n",
            "132        60    103       133     335.0\n",
            "133        60    106       132     327.5\n",
            "134        60    103       136     339.0\n",
            "135        20    136       156     189.0\n",
            "136        45    117       143     317.7\n",
            "137        45    115       137     318.0\n",
            "138        45    113       138     308.0\n",
            "139        20    141       162     222.4\n",
            "140        60    108       135     390.0\n",
            "141        60     97       127       NaN\n",
            "142        45    100       120     250.4\n",
            "143        45    122       149     335.4\n",
            "144        60    136       170     470.2\n",
            "145        45    106       126     270.8\n",
            "146        60    107       136     400.0\n",
            "147        60    112       146     361.9\n",
            "148        30    103       127     185.0\n",
            "149        60    110       150     409.4\n",
            "150        60    106       134     343.0\n",
            "151        60    109       129     353.2\n",
            "152        60    109       138     374.0\n",
            "153        30    150       167     275.8\n",
            "154        60    105       128     328.0\n",
            "155        60    111       151     368.5\n",
            "156        60     97       131     270.4\n",
            "157        60    100       120     270.4\n",
            "158        60    114       150     382.8\n",
            "159        30     80       120     240.9\n",
            "160        30     85       120     250.4\n",
            "161        45     90       130     260.4\n",
            "162        45     95       130     270.0\n",
            "163        45    100       140     280.9\n",
            "164        60    105       140     290.8\n",
            "165        60    110       145     300.0\n",
            "166        60    115       145     310.2\n",
            "167        75    120       150     320.4\n",
            "168        75    125       150     330.4\n"
          ]
        }
      ]
    },
    {
      "cell_type": "code",
      "source": [
        "#Analyzing data\n",
        "print(df.head(10))        #Show first N entries"
      ],
      "metadata": {
        "colab": {
          "base_uri": "https://localhost:8080/"
        },
        "id": "k2axYOtf5Pap",
        "outputId": "f01d5254-5b6c-4bcf-c40e-6319b6b9bbbb"
      },
      "execution_count": null,
      "outputs": [
        {
          "output_type": "stream",
          "name": "stdout",
          "text": [
            "   Duration  Pulse  Maxpulse  Calories\n",
            "0        60    110       130     409.1\n",
            "1        60    117       145     479.0\n",
            "2        60    103       135     340.0\n",
            "3        45    109       175     282.4\n",
            "4        45    117       148     406.0\n",
            "5        60    102       127     300.0\n",
            "6        60    110       136     374.0\n",
            "7        45    104       134     253.3\n",
            "8        30    109       133     195.1\n",
            "9        60     98       124     269.0\n"
          ]
        }
      ]
    },
    {
      "cell_type": "code",
      "source": [
        "print(df.tail())          #Show last 5 entries"
      ],
      "metadata": {
        "colab": {
          "base_uri": "https://localhost:8080/"
        },
        "id": "KP6yUcrG5W3f",
        "outputId": "0c9be3d9-3f32-4153-89b0-e3e8d71d9064"
      },
      "execution_count": null,
      "outputs": [
        {
          "output_type": "stream",
          "name": "stdout",
          "text": [
            "     Duration  Pulse  Maxpulse  Calories\n",
            "164        60    105       140     290.8\n",
            "165        60    110       145     300.0\n",
            "166        60    115       145     310.2\n",
            "167        75    120       150     320.4\n",
            "168        75    125       150     330.4\n"
          ]
        }
      ]
    },
    {
      "cell_type": "code",
      "source": [
        "print(df.info())          #Information summary of all datas"
      ],
      "metadata": {
        "colab": {
          "base_uri": "https://localhost:8080/"
        },
        "id": "zExATWe55eYm",
        "outputId": "c26fb56c-fd75-452b-9d9e-0fcae8194bbb"
      },
      "execution_count": null,
      "outputs": [
        {
          "output_type": "stream",
          "name": "stdout",
          "text": [
            "<class 'pandas.core.frame.DataFrame'>\n",
            "RangeIndex: 169 entries, 0 to 168\n",
            "Data columns (total 4 columns):\n",
            " #   Column    Non-Null Count  Dtype  \n",
            "---  ------    --------------  -----  \n",
            " 0   Duration  169 non-null    int64  \n",
            " 1   Pulse     169 non-null    int64  \n",
            " 2   Maxpulse  169 non-null    int64  \n",
            " 3   Calories  164 non-null    float64\n",
            "dtypes: float64(1), int64(3)\n",
            "memory usage: 5.4 KB\n",
            "None\n"
          ]
        }
      ]
    },
    {
      "cell_type": "code",
      "source": [
        "#Information of a specific column\n",
        "print(df[\"Calories\"].mean())\n",
        "print(df[\"Calories\"].median())\n",
        "print(df[\"Calories\"].mode())"
      ],
      "metadata": {
        "colab": {
          "base_uri": "https://localhost:8080/"
        },
        "id": "xLG9wZFH5pRv",
        "outputId": "2f1d4ec7-ecd2-404a-9cf1-b779cc5ae381"
      },
      "execution_count": null,
      "outputs": [
        {
          "output_type": "stream",
          "name": "stdout",
          "text": [
            "375.79024390243904\n",
            "318.6\n",
            "0    300.0\n",
            "Name: Calories, dtype: float64\n"
          ]
        }
      ]
    },
    {
      "cell_type": "markdown",
      "source": [
        "#Data Cleaning\n"
      ],
      "metadata": {
        "id": "oC47C8Ur51Dg"
      }
    },
    {
      "cell_type": "code",
      "source": [
        "#Drop rows with empty cells. Return a new Data Frame.\n",
        "new_df = df.dropna()\n",
        "print(new_df.to_string())"
      ],
      "metadata": {
        "colab": {
          "base_uri": "https://localhost:8080/"
        },
        "id": "ZhRI6V5w52At",
        "outputId": "09aeaa2e-f6ea-45ef-8541-f3db20e37140"
      },
      "execution_count": null,
      "outputs": [
        {
          "output_type": "stream",
          "name": "stdout",
          "text": [
            "     Duration  Pulse  Maxpulse  Calories\n",
            "0          60    110       130     409.1\n",
            "1          60    117       145     479.0\n",
            "2          60    103       135     340.0\n",
            "3          45    109       175     282.4\n",
            "4          45    117       148     406.0\n",
            "5          60    102       127     300.0\n",
            "6          60    110       136     374.0\n",
            "7          45    104       134     253.3\n",
            "8          30    109       133     195.1\n",
            "9          60     98       124     269.0\n",
            "10         60    103       147     329.3\n",
            "11         60    100       120     250.7\n",
            "12         60    106       128     345.3\n",
            "13         60    104       132     379.3\n",
            "14         60     98       123     275.0\n",
            "15         60     98       120     215.2\n",
            "16         60    100       120     300.0\n",
            "18         60    103       123     323.0\n",
            "19         45     97       125     243.0\n",
            "20         60    108       131     364.2\n",
            "21         45    100       119     282.0\n",
            "22         60    130       101     300.0\n",
            "23         45    105       132     246.0\n",
            "24         60    102       126     334.5\n",
            "25         60    100       120     250.0\n",
            "26         60     92       118     241.0\n",
            "28         60    100       132     280.0\n",
            "29         60    102       129     380.3\n",
            "30         60     92       115     243.0\n",
            "31         45     90       112     180.1\n",
            "32         60    101       124     299.0\n",
            "33         60     93       113     223.0\n",
            "34         60    107       136     361.0\n",
            "35         60    114       140     415.0\n",
            "36         60    102       127     300.0\n",
            "37         60    100       120     300.0\n",
            "38         60    100       120     300.0\n",
            "39         45    104       129     266.0\n",
            "40         45     90       112     180.1\n",
            "41         60     98       126     286.0\n",
            "42         60    100       122     329.4\n",
            "43         60    111       138     400.0\n",
            "44         60    111       131     397.0\n",
            "45         60     99       119     273.0\n",
            "46         60    109       153     387.6\n",
            "47         45    111       136     300.0\n",
            "48         45    108       129     298.0\n",
            "49         60    111       139     397.6\n",
            "50         60    107       136     380.2\n",
            "51         80    123       146     643.1\n",
            "52         60    106       130     263.0\n",
            "53         60    118       151     486.0\n",
            "54         30    136       175     238.0\n",
            "55         60    121       146     450.7\n",
            "56         60    118       121     413.0\n",
            "57         45    115       144     305.0\n",
            "58         20    153       172     226.4\n",
            "59         45    123       152     321.0\n",
            "60        210    108       160    1376.0\n",
            "61        160    110       137    1034.4\n",
            "62        160    109       135     853.0\n",
            "63         45    118       141     341.0\n",
            "64         20    110       130     131.4\n",
            "65        180     90       130     800.4\n",
            "66        150    105       135     873.4\n",
            "67        150    107       130     816.0\n",
            "68         20    106       136     110.4\n",
            "69        300    108       143    1500.2\n",
            "70        150     97       129    1115.0\n",
            "71         60    109       153     387.6\n",
            "72         90    100       127     700.0\n",
            "73        150     97       127     953.2\n",
            "74         45    114       146     304.0\n",
            "75         90     98       125     563.2\n",
            "76         45    105       134     251.0\n",
            "77         45    110       141     300.0\n",
            "78        120    100       130     500.4\n",
            "79        270    100       131    1729.0\n",
            "80         30    159       182     319.2\n",
            "81         45    149       169     344.0\n",
            "82         30    103       139     151.1\n",
            "83        120    100       130     500.0\n",
            "84         45    100       120     225.3\n",
            "85         30    151       170     300.0\n",
            "86         45    102       136     234.0\n",
            "87        120    100       157    1000.1\n",
            "88         45    129       103     242.0\n",
            "89         20     83       107      50.3\n",
            "90        180    101       127     600.1\n",
            "92         30     90       107     105.3\n",
            "93         15     80       100      50.5\n",
            "94         20    150       171     127.4\n",
            "95         20    151       168     229.4\n",
            "96         30     95       128     128.2\n",
            "97         25    152       168     244.2\n",
            "98         30    109       131     188.2\n",
            "99         90     93       124     604.1\n",
            "100        20     95       112      77.7\n",
            "101        90     90       110     500.0\n",
            "102        90     90       100     500.0\n",
            "103        90     90       100     500.4\n",
            "104        30     92       108      92.7\n",
            "105        30     93       128     124.0\n",
            "106       180     90       120     800.3\n",
            "107        30     90       120      86.2\n",
            "108        90     90       120     500.3\n",
            "109       210    137       184    1860.4\n",
            "110        60    102       124     325.2\n",
            "111        45    107       124     275.0\n",
            "112        15    124       139     124.2\n",
            "113        45    100       120     225.3\n",
            "114        60    108       131     367.6\n",
            "115        60    108       151     351.7\n",
            "116        60    116       141     443.0\n",
            "117        60     97       122     277.4\n",
            "119        60    103       124     332.7\n",
            "120        30    112       137     193.9\n",
            "121        45    100       120     100.7\n",
            "122        60    119       169     336.7\n",
            "123        60    107       127     344.9\n",
            "124        60    111       151     368.5\n",
            "125        60     98       122     271.0\n",
            "126        60     97       124     275.3\n",
            "127        60    109       127     382.0\n",
            "128        90     99       125     466.4\n",
            "129        60    114       151     384.0\n",
            "130        60    104       134     342.5\n",
            "131        60    107       138     357.5\n",
            "132        60    103       133     335.0\n",
            "133        60    106       132     327.5\n",
            "134        60    103       136     339.0\n",
            "135        20    136       156     189.0\n",
            "136        45    117       143     317.7\n",
            "137        45    115       137     318.0\n",
            "138        45    113       138     308.0\n",
            "139        20    141       162     222.4\n",
            "140        60    108       135     390.0\n",
            "142        45    100       120     250.4\n",
            "143        45    122       149     335.4\n",
            "144        60    136       170     470.2\n",
            "145        45    106       126     270.8\n",
            "146        60    107       136     400.0\n",
            "147        60    112       146     361.9\n",
            "148        30    103       127     185.0\n",
            "149        60    110       150     409.4\n",
            "150        60    106       134     343.0\n",
            "151        60    109       129     353.2\n",
            "152        60    109       138     374.0\n",
            "153        30    150       167     275.8\n",
            "154        60    105       128     328.0\n",
            "155        60    111       151     368.5\n",
            "156        60     97       131     270.4\n",
            "157        60    100       120     270.4\n",
            "158        60    114       150     382.8\n",
            "159        30     80       120     240.9\n",
            "160        30     85       120     250.4\n",
            "161        45     90       130     260.4\n",
            "162        45     95       130     270.0\n",
            "163        45    100       140     280.9\n",
            "164        60    105       140     290.8\n",
            "165        60    110       145     300.0\n",
            "166        60    115       145     310.2\n",
            "167        75    120       150     320.4\n",
            "168        75    125       150     330.4\n"
          ]
        }
      ]
    },
    {
      "cell_type": "code",
      "source": [
        "#Replace NULL values with the mean value = 375\n",
        "df.fillna(375, inplace = True)        #Inplace - Changes saved in the same Dataframe\n",
        "print(df.to_string())"
      ],
      "metadata": {
        "colab": {
          "base_uri": "https://localhost:8080/"
        },
        "id": "NdFz5op86C4Z",
        "outputId": "fd5a7c53-49dc-49a9-f99d-200e70d78ae0"
      },
      "execution_count": null,
      "outputs": [
        {
          "output_type": "stream",
          "name": "stdout",
          "text": [
            "     Duration  Pulse  Maxpulse  Calories\n",
            "0          60    110       130     409.1\n",
            "1          60    117       145     479.0\n",
            "2          60    103       135     340.0\n",
            "3          45    109       175     282.4\n",
            "4          45    117       148     406.0\n",
            "5          60    102       127     300.0\n",
            "6          60    110       136     374.0\n",
            "7          45    104       134     253.3\n",
            "8          30    109       133     195.1\n",
            "9          60     98       124     269.0\n",
            "10         60    103       147     329.3\n",
            "11         60    100       120     250.7\n",
            "12         60    106       128     345.3\n",
            "13         60    104       132     379.3\n",
            "14         60     98       123     275.0\n",
            "15         60     98       120     215.2\n",
            "16         60    100       120     300.0\n",
            "17         45     90       112     375.0\n",
            "18         60    103       123     323.0\n",
            "19         45     97       125     243.0\n",
            "20         60    108       131     364.2\n",
            "21         45    100       119     282.0\n",
            "22         60    130       101     300.0\n",
            "23         45    105       132     246.0\n",
            "24         60    102       126     334.5\n",
            "25         60    100       120     250.0\n",
            "26         60     92       118     241.0\n",
            "27         60    103       132     375.0\n",
            "28         60    100       132     280.0\n",
            "29         60    102       129     380.3\n",
            "30         60     92       115     243.0\n",
            "31         45     90       112     180.1\n",
            "32         60    101       124     299.0\n",
            "33         60     93       113     223.0\n",
            "34         60    107       136     361.0\n",
            "35         60    114       140     415.0\n",
            "36         60    102       127     300.0\n",
            "37         60    100       120     300.0\n",
            "38         60    100       120     300.0\n",
            "39         45    104       129     266.0\n",
            "40         45     90       112     180.1\n",
            "41         60     98       126     286.0\n",
            "42         60    100       122     329.4\n",
            "43         60    111       138     400.0\n",
            "44         60    111       131     397.0\n",
            "45         60     99       119     273.0\n",
            "46         60    109       153     387.6\n",
            "47         45    111       136     300.0\n",
            "48         45    108       129     298.0\n",
            "49         60    111       139     397.6\n",
            "50         60    107       136     380.2\n",
            "51         80    123       146     643.1\n",
            "52         60    106       130     263.0\n",
            "53         60    118       151     486.0\n",
            "54         30    136       175     238.0\n",
            "55         60    121       146     450.7\n",
            "56         60    118       121     413.0\n",
            "57         45    115       144     305.0\n",
            "58         20    153       172     226.4\n",
            "59         45    123       152     321.0\n",
            "60        210    108       160    1376.0\n",
            "61        160    110       137    1034.4\n",
            "62        160    109       135     853.0\n",
            "63         45    118       141     341.0\n",
            "64         20    110       130     131.4\n",
            "65        180     90       130     800.4\n",
            "66        150    105       135     873.4\n",
            "67        150    107       130     816.0\n",
            "68         20    106       136     110.4\n",
            "69        300    108       143    1500.2\n",
            "70        150     97       129    1115.0\n",
            "71         60    109       153     387.6\n",
            "72         90    100       127     700.0\n",
            "73        150     97       127     953.2\n",
            "74         45    114       146     304.0\n",
            "75         90     98       125     563.2\n",
            "76         45    105       134     251.0\n",
            "77         45    110       141     300.0\n",
            "78        120    100       130     500.4\n",
            "79        270    100       131    1729.0\n",
            "80         30    159       182     319.2\n",
            "81         45    149       169     344.0\n",
            "82         30    103       139     151.1\n",
            "83        120    100       130     500.0\n",
            "84         45    100       120     225.3\n",
            "85         30    151       170     300.0\n",
            "86         45    102       136     234.0\n",
            "87        120    100       157    1000.1\n",
            "88         45    129       103     242.0\n",
            "89         20     83       107      50.3\n",
            "90        180    101       127     600.1\n",
            "91         45    107       137     375.0\n",
            "92         30     90       107     105.3\n",
            "93         15     80       100      50.5\n",
            "94         20    150       171     127.4\n",
            "95         20    151       168     229.4\n",
            "96         30     95       128     128.2\n",
            "97         25    152       168     244.2\n",
            "98         30    109       131     188.2\n",
            "99         90     93       124     604.1\n",
            "100        20     95       112      77.7\n",
            "101        90     90       110     500.0\n",
            "102        90     90       100     500.0\n",
            "103        90     90       100     500.4\n",
            "104        30     92       108      92.7\n",
            "105        30     93       128     124.0\n",
            "106       180     90       120     800.3\n",
            "107        30     90       120      86.2\n",
            "108        90     90       120     500.3\n",
            "109       210    137       184    1860.4\n",
            "110        60    102       124     325.2\n",
            "111        45    107       124     275.0\n",
            "112        15    124       139     124.2\n",
            "113        45    100       120     225.3\n",
            "114        60    108       131     367.6\n",
            "115        60    108       151     351.7\n",
            "116        60    116       141     443.0\n",
            "117        60     97       122     277.4\n",
            "118        60    105       125     375.0\n",
            "119        60    103       124     332.7\n",
            "120        30    112       137     193.9\n",
            "121        45    100       120     100.7\n",
            "122        60    119       169     336.7\n",
            "123        60    107       127     344.9\n",
            "124        60    111       151     368.5\n",
            "125        60     98       122     271.0\n",
            "126        60     97       124     275.3\n",
            "127        60    109       127     382.0\n",
            "128        90     99       125     466.4\n",
            "129        60    114       151     384.0\n",
            "130        60    104       134     342.5\n",
            "131        60    107       138     357.5\n",
            "132        60    103       133     335.0\n",
            "133        60    106       132     327.5\n",
            "134        60    103       136     339.0\n",
            "135        20    136       156     189.0\n",
            "136        45    117       143     317.7\n",
            "137        45    115       137     318.0\n",
            "138        45    113       138     308.0\n",
            "139        20    141       162     222.4\n",
            "140        60    108       135     390.0\n",
            "141        60     97       127     375.0\n",
            "142        45    100       120     250.4\n",
            "143        45    122       149     335.4\n",
            "144        60    136       170     470.2\n",
            "145        45    106       126     270.8\n",
            "146        60    107       136     400.0\n",
            "147        60    112       146     361.9\n",
            "148        30    103       127     185.0\n",
            "149        60    110       150     409.4\n",
            "150        60    106       134     343.0\n",
            "151        60    109       129     353.2\n",
            "152        60    109       138     374.0\n",
            "153        30    150       167     275.8\n",
            "154        60    105       128     328.0\n",
            "155        60    111       151     368.5\n",
            "156        60     97       131     270.4\n",
            "157        60    100       120     270.4\n",
            "158        60    114       150     382.8\n",
            "159        30     80       120     240.9\n",
            "160        30     85       120     250.4\n",
            "161        45     90       130     260.4\n",
            "162        45     95       130     270.0\n",
            "163        45    100       140     280.9\n",
            "164        60    105       140     290.8\n",
            "165        60    110       145     300.0\n",
            "166        60    115       145     310.2\n",
            "167        75    120       150     320.4\n",
            "168        75    125       150     330.4\n"
          ]
        }
      ]
    },
    {
      "cell_type": "code",
      "source": [
        "#Update data\n",
        "df.loc[5, 'Pulse'] = 45\n",
        "\n",
        "print(df.to_string())"
      ],
      "metadata": {
        "colab": {
          "base_uri": "https://localhost:8080/"
        },
        "id": "_6iMkFly7GYr",
        "outputId": "6cec2656-9d4b-44a9-b9ab-64b077c38b84"
      },
      "execution_count": null,
      "outputs": [
        {
          "output_type": "stream",
          "name": "stdout",
          "text": [
            "     Duration  Pulse  Maxpulse  Calories\n",
            "0          60    110       130       375\n",
            "1          60    117       145       375\n",
            "2          60    103       135       375\n",
            "3          45    109       175       375\n",
            "4          45    117       148       375\n",
            "5          60     45       127       375\n",
            "6          60    110       136       375\n",
            "7          45    104       134       375\n",
            "8          30    109       133       375\n",
            "9          60     98       124       375\n",
            "10         60    103       147       375\n",
            "11         60    100       120       375\n",
            "12         60    106       128       375\n",
            "13         60    104       132       375\n",
            "14         60     98       123       375\n",
            "15         60     98       120       375\n",
            "16         60    100       120       375\n",
            "17         45     90       112       375\n",
            "18         60    103       123       375\n",
            "19         45     97       125       375\n",
            "20         60    108       131       375\n",
            "21         45    100       119       375\n",
            "22         60    130       101       375\n",
            "23         45    105       132       375\n",
            "24         60    102       126       375\n",
            "25         60    100       120       375\n",
            "26         60     92       118       375\n",
            "27         60    103       132       375\n",
            "28         60    100       132       375\n",
            "29         60    102       129       375\n",
            "30         60     92       115       375\n",
            "31         45     90       112       375\n",
            "32         60    101       124       375\n",
            "33         60     93       113       375\n",
            "34         60    107       136       375\n",
            "35         60    114       140       375\n",
            "36         60    102       127       375\n",
            "37         60    100       120       375\n",
            "38         60    100       120       375\n",
            "39         45    104       129       375\n",
            "40         45     90       112       375\n",
            "41         60     98       126       375\n",
            "42         60    100       122       375\n",
            "43         60    111       138       375\n",
            "44         60    111       131       375\n",
            "45         60     99       119       375\n",
            "46         60    109       153       375\n",
            "47         45    111       136       375\n",
            "48         45    108       129       375\n",
            "49         60    111       139       375\n",
            "50         60    107       136       375\n",
            "51         80    123       146       375\n",
            "52         60    106       130       375\n",
            "53         60    118       151       375\n",
            "54         30    136       175       375\n",
            "55         60    121       146       375\n",
            "56         60    118       121       375\n",
            "57         45    115       144       375\n",
            "58         20    153       172       375\n",
            "59         45    123       152       375\n",
            "60        210    108       160       375\n",
            "61        160    110       137       375\n",
            "62        160    109       135       375\n",
            "63         45    118       141       375\n",
            "64         20    110       130       375\n",
            "65        180     90       130       375\n",
            "66        150    105       135       375\n",
            "67        150    107       130       375\n",
            "68         20    106       136       375\n",
            "69        300    108       143       375\n",
            "70        150     97       129       375\n",
            "71         60    109       153       375\n",
            "72         90    100       127       375\n",
            "73        150     97       127       375\n",
            "74         45    114       146       375\n",
            "75         90     98       125       375\n",
            "76         45    105       134       375\n",
            "77         45    110       141       375\n",
            "78        120    100       130       375\n",
            "79        270    100       131       375\n",
            "80         30    159       182       375\n",
            "81         45    149       169       375\n",
            "82         30    103       139       375\n",
            "83        120    100       130       375\n",
            "84         45    100       120       375\n",
            "85         30    151       170       375\n",
            "86         45    102       136       375\n",
            "87        120    100       157       375\n",
            "88         45    129       103       375\n",
            "89         20     83       107       375\n",
            "90        180    101       127       375\n",
            "91         45    107       137       375\n",
            "92         30     90       107       375\n",
            "93         15     80       100       375\n",
            "94         20    150       171       375\n",
            "95         20    151       168       375\n",
            "96         30     95       128       375\n",
            "97         25    152       168       375\n",
            "98         30    109       131       375\n",
            "99         90     93       124       375\n",
            "100        20     95       112       375\n",
            "101        90     90       110       375\n",
            "102        90     90       100       375\n",
            "103        90     90       100       375\n",
            "104        30     92       108       375\n",
            "105        30     93       128       375\n",
            "106       180     90       120       375\n",
            "107        30     90       120       375\n",
            "108        90     90       120       375\n",
            "109       210    137       184       375\n",
            "110        60    102       124       375\n",
            "111        45    107       124       375\n",
            "112        15    124       139       375\n",
            "113        45    100       120       375\n",
            "114        60    108       131       375\n",
            "115        60    108       151       375\n",
            "116        60    116       141       375\n",
            "117        60     97       122       375\n",
            "118        60    105       125       375\n",
            "119        60    103       124       375\n",
            "120        30    112       137       375\n",
            "121        45    100       120       375\n",
            "122        60    119       169       375\n",
            "123        60    107       127       375\n",
            "124        60    111       151       375\n",
            "125        60     98       122       375\n",
            "126        60     97       124       375\n",
            "127        60    109       127       375\n",
            "128        90     99       125       375\n",
            "129        60    114       151       375\n",
            "130        60    104       134       375\n",
            "131        60    107       138       375\n",
            "132        60    103       133       375\n",
            "133        60    106       132       375\n",
            "134        60    103       136       375\n",
            "135        20    136       156       375\n",
            "136        45    117       143       375\n",
            "137        45    115       137       375\n",
            "138        45    113       138       375\n",
            "139        20    141       162       375\n",
            "140        60    108       135       375\n",
            "141        60     97       127       375\n",
            "142        45    100       120       375\n",
            "143        45    122       149       375\n",
            "144        60    136       170       375\n",
            "145        45    106       126       375\n",
            "146        60    107       136       375\n",
            "147        60    112       146       375\n",
            "148        30    103       127       375\n",
            "149        60    110       150       375\n",
            "150        60    106       134       375\n",
            "151        60    109       129       375\n",
            "152        60    109       138       375\n",
            "153        30    150       167       375\n",
            "154        60    105       128       375\n",
            "155        60    111       151       375\n",
            "156        60     97       131       375\n",
            "157        60    100       120       375\n",
            "158        60    114       150       375\n",
            "159        30     80       120       375\n",
            "160        30     85       120       375\n",
            "161        45     90       130       375\n",
            "162        45     95       130       375\n",
            "163        45    100       140       375\n",
            "164        60    105       140       375\n",
            "165        60    110       145       375\n",
            "166        60    115       145       375\n",
            "167        75    120       150       375\n",
            "168        75    125       150       375\n"
          ]
        }
      ]
    },
    {
      "cell_type": "code",
      "source": [
        "#Update data\n",
        "df.loc[5, 'Pulse'] = 45\n",
        "\n",
        "print(df.to_string())"
      ],
      "metadata": {
        "colab": {
          "base_uri": "https://localhost:8080/"
        },
        "id": "F9uCQZTX7OGN",
        "outputId": "b92ab18e-27ee-46a9-80fe-e5b3367f4bd0"
      },
      "execution_count": null,
      "outputs": [
        {
          "output_type": "stream",
          "name": "stdout",
          "text": [
            "     Duration  Pulse  Maxpulse  Calories\n",
            "0          60    110       130       375\n",
            "1          60      0       145       375\n",
            "2          60    103       135       375\n",
            "3          45    109       175       375\n",
            "4          45    117       148       375\n",
            "5          60     45       127       375\n",
            "6          60    110       136       375\n",
            "7          45    104       134       375\n",
            "8          30    109       133       375\n",
            "9          60     98       124       375\n",
            "10         60    103       147       375\n",
            "11         60    100       120       375\n",
            "12         60    106       128       375\n",
            "13         60    104       132       375\n",
            "14         60     98       123       375\n",
            "15         60     98       120       375\n",
            "17         45     90       112       375\n",
            "18         60    103       123       375\n",
            "19         45     97       125       375\n",
            "20         60    108       131       375\n",
            "21         45    100       119       375\n",
            "22         60    130       101       375\n",
            "23         45    105       132       375\n",
            "24         60    102       126       375\n",
            "26         60     92       118       375\n",
            "27         60    103       132       375\n",
            "28         60    100       132       375\n",
            "29         60    102       129       375\n",
            "30         60     92       115       375\n",
            "32         60    101       124       375\n",
            "33         60     93       113       375\n",
            "34         60    107       136       375\n",
            "35         60    114       140       375\n",
            "36         60    102       127       375\n",
            "39         45    104       129       375\n",
            "41         60     98       126       375\n",
            "42         60    100       122       375\n",
            "43         60    111       138       375\n",
            "44         60    111       131       375\n",
            "45         60      0       119       375\n",
            "46         60    109       153       375\n",
            "47         45    111       136       375\n",
            "48         45    108       129       375\n",
            "49         60    111       139       375\n",
            "51         80    123       146       375\n",
            "52         60    106       130       375\n",
            "53         60    118       151       375\n",
            "54         30    136       175       375\n",
            "55         60    121       146       375\n",
            "56         60    118       121       375\n",
            "57         45    115       144       375\n",
            "58         20    153       172       375\n",
            "59         45    123       152       375\n",
            "60        210    108       160       375\n",
            "61        160    110       137       375\n",
            "62        160    109       135       375\n",
            "63         45    118       141       375\n",
            "64         20    110       130       375\n",
            "65        180     90       130       375\n",
            "66        150    105       135       375\n",
            "67        150    107       130       375\n",
            "68         20    106       136       375\n",
            "69        300    108       143       375\n",
            "70        150     97       129       375\n",
            "72         90    100       127       375\n",
            "73        150     97       127       375\n",
            "74         45    114       146       375\n",
            "75         90     98       125       375\n",
            "76         45    105       134       375\n",
            "77         45    110       141       375\n",
            "78        120    100       130       375\n",
            "79        270    100       131       375\n",
            "80         30    159       182       375\n",
            "81         45    149       169       375\n",
            "82         30    103       139       375\n",
            "84         45    100       120       375\n",
            "85         30    151       170       375\n",
            "86         45    102       136       375\n",
            "87        120    100       157       375\n",
            "88         45    129       103       375\n",
            "89         20     83       107       375\n",
            "90        180    101       127       375\n",
            "91         45    107       137       375\n",
            "92         30     90       107       375\n",
            "93         15     80       100       375\n",
            "94         20    150       171       375\n",
            "95         20    151       168       375\n",
            "96         30     95       128       375\n",
            "97         25    152       168       375\n",
            "98         30    109       131       375\n",
            "99         90     93       124       375\n",
            "100        20     95       112       375\n",
            "101        90     90       110       375\n",
            "102        90     90       100       375\n",
            "104        30     92       108       375\n",
            "105        30     93       128       375\n",
            "106       180     90       120       375\n",
            "107        30     90       120       375\n",
            "108        90     90       120       375\n",
            "109       210    137       184       375\n",
            "110        60    102       124       375\n",
            "111        45    107       124       375\n",
            "112        15    124       139       375\n",
            "115        60    108       151       375\n",
            "116        60    116       141       375\n",
            "117        60     97       122       375\n",
            "118        60    105       125       375\n",
            "119        60    103       124       375\n",
            "120        30    112       137       375\n",
            "122        60    119       169       375\n",
            "123        60    107       127       375\n",
            "124        60    111       151       375\n",
            "125        60     98       122       375\n",
            "126        60     97       124       375\n",
            "127        60    109       127       375\n",
            "128        90     99       125       375\n",
            "129        60    114       151       375\n",
            "130        60    104       134       375\n",
            "131        60    107       138       375\n",
            "132        60    103       133       375\n",
            "133        60    106       132       375\n",
            "134        60    103       136       375\n",
            "135        20    136       156       375\n",
            "136        45    117       143       375\n",
            "137        45    115       137       375\n",
            "138        45    113       138       375\n",
            "139        20    141       162       375\n",
            "140        60    108       135       375\n",
            "141        60     97       127       375\n",
            "143        45    122       149       375\n",
            "144        60    136       170       375\n",
            "145        45    106       126       375\n",
            "147        60    112       146       375\n",
            "148        30    103       127       375\n",
            "149        60    110       150       375\n",
            "150        60    106       134       375\n",
            "151        60    109       129       375\n",
            "152        60    109       138       375\n",
            "153        30    150       167       375\n",
            "154        60    105       128       375\n",
            "156        60     97       131       375\n",
            "158        60    114       150       375\n",
            "159        30     80       120       375\n",
            "160        30     85       120       375\n",
            "161        45     90       130       375\n",
            "162        45     95       130       375\n",
            "163        45    100       140       375\n",
            "164        60    105       140       375\n",
            "165        60    110       145       375\n",
            "166        60    115       145       375\n",
            "167        75    120       150       375\n",
            "168        75    125       150       375\n"
          ]
        }
      ]
    },
    {
      "cell_type": "code",
      "source": [
        "#Duplicate data finding\n",
        "print(df.duplicated().to_string())"
      ],
      "metadata": {
        "colab": {
          "base_uri": "https://localhost:8080/"
        },
        "id": "KXNz0PEn7ucg",
        "outputId": "83c59bc5-8042-4ae7-e632-b8a78b746c63"
      },
      "execution_count": null,
      "outputs": [
        {
          "output_type": "stream",
          "name": "stdout",
          "text": [
            "0      False\n",
            "1      False\n",
            "2      False\n",
            "3      False\n",
            "4      False\n",
            "5      False\n",
            "6      False\n",
            "7      False\n",
            "8      False\n",
            "9      False\n",
            "10     False\n",
            "11     False\n",
            "12     False\n",
            "13     False\n",
            "14     False\n",
            "15     False\n",
            "16      True\n",
            "17     False\n",
            "18     False\n",
            "19     False\n",
            "20     False\n",
            "21     False\n",
            "22     False\n",
            "23     False\n",
            "24     False\n",
            "25      True\n",
            "26     False\n",
            "27     False\n",
            "28     False\n",
            "29     False\n",
            "30     False\n",
            "31      True\n",
            "32     False\n",
            "33     False\n",
            "34     False\n",
            "35     False\n",
            "36     False\n",
            "37      True\n",
            "38      True\n",
            "39     False\n",
            "40      True\n",
            "41     False\n",
            "42     False\n",
            "43     False\n",
            "44     False\n",
            "45     False\n",
            "46     False\n",
            "47     False\n",
            "48     False\n",
            "49     False\n",
            "50      True\n",
            "51     False\n",
            "52     False\n",
            "53     False\n",
            "54     False\n",
            "55     False\n",
            "56     False\n",
            "57     False\n",
            "58     False\n",
            "59     False\n",
            "60     False\n",
            "61     False\n",
            "62     False\n",
            "63     False\n",
            "64     False\n",
            "65     False\n",
            "66     False\n",
            "67     False\n",
            "68     False\n",
            "69     False\n",
            "70     False\n",
            "71      True\n",
            "72     False\n",
            "73     False\n",
            "74     False\n",
            "75     False\n",
            "76     False\n",
            "77     False\n",
            "78     False\n",
            "79     False\n",
            "80     False\n",
            "81     False\n",
            "82     False\n",
            "83      True\n",
            "84     False\n",
            "85     False\n",
            "86     False\n",
            "87     False\n",
            "88     False\n",
            "89     False\n",
            "90     False\n",
            "91     False\n",
            "92     False\n",
            "93     False\n",
            "94     False\n",
            "95     False\n",
            "96     False\n",
            "97     False\n",
            "98     False\n",
            "99     False\n",
            "100    False\n",
            "101    False\n",
            "102    False\n",
            "103     True\n",
            "104    False\n",
            "105    False\n",
            "106    False\n",
            "107    False\n",
            "108    False\n",
            "109    False\n",
            "110    False\n",
            "111    False\n",
            "112    False\n",
            "113     True\n",
            "114     True\n",
            "115    False\n",
            "116    False\n",
            "117    False\n",
            "118    False\n",
            "119    False\n",
            "120    False\n",
            "121     True\n",
            "122    False\n",
            "123    False\n",
            "124    False\n",
            "125    False\n",
            "126    False\n",
            "127    False\n",
            "128    False\n",
            "129    False\n",
            "130    False\n",
            "131    False\n",
            "132    False\n",
            "133    False\n",
            "134    False\n",
            "135    False\n",
            "136    False\n",
            "137    False\n",
            "138    False\n",
            "139    False\n",
            "140    False\n",
            "141    False\n",
            "142     True\n",
            "143    False\n",
            "144    False\n",
            "145    False\n",
            "146     True\n",
            "147    False\n",
            "148    False\n",
            "149    False\n",
            "150    False\n",
            "151    False\n",
            "152    False\n",
            "153    False\n",
            "154    False\n",
            "155     True\n",
            "156    False\n",
            "157     True\n",
            "158    False\n",
            "159    False\n",
            "160    False\n",
            "161    False\n",
            "162    False\n",
            "163    False\n",
            "164    False\n",
            "165    False\n",
            "166    False\n",
            "167    False\n",
            "168    False\n"
          ]
        }
      ]
    },
    {
      "cell_type": "code",
      "source": [
        "#Drop duplicate data\n",
        "df.drop_duplicates(inplace = True)\n",
        "print(df.duplicated().to_string())"
      ],
      "metadata": {
        "colab": {
          "base_uri": "https://localhost:8080/"
        },
        "id": "pHVCWEPm70p1",
        "outputId": "19bf85d5-1335-4556-8ab0-9e248250a656"
      },
      "execution_count": null,
      "outputs": [
        {
          "output_type": "stream",
          "name": "stdout",
          "text": [
            "0      False\n",
            "1      False\n",
            "2      False\n",
            "3      False\n",
            "4      False\n",
            "5      False\n",
            "6      False\n",
            "7      False\n",
            "8      False\n",
            "9      False\n",
            "10     False\n",
            "11     False\n",
            "12     False\n",
            "13     False\n",
            "14     False\n",
            "15     False\n",
            "17     False\n",
            "18     False\n",
            "19     False\n",
            "20     False\n",
            "21     False\n",
            "22     False\n",
            "23     False\n",
            "24     False\n",
            "26     False\n",
            "27     False\n",
            "28     False\n",
            "29     False\n",
            "30     False\n",
            "32     False\n",
            "33     False\n",
            "34     False\n",
            "35     False\n",
            "36     False\n",
            "39     False\n",
            "41     False\n",
            "42     False\n",
            "43     False\n",
            "44     False\n",
            "45     False\n",
            "46     False\n",
            "47     False\n",
            "48     False\n",
            "49     False\n",
            "51     False\n",
            "52     False\n",
            "53     False\n",
            "54     False\n",
            "55     False\n",
            "56     False\n",
            "57     False\n",
            "58     False\n",
            "59     False\n",
            "60     False\n",
            "61     False\n",
            "62     False\n",
            "63     False\n",
            "64     False\n",
            "65     False\n",
            "66     False\n",
            "67     False\n",
            "68     False\n",
            "69     False\n",
            "70     False\n",
            "72     False\n",
            "73     False\n",
            "74     False\n",
            "75     False\n",
            "76     False\n",
            "77     False\n",
            "78     False\n",
            "79     False\n",
            "80     False\n",
            "81     False\n",
            "82     False\n",
            "84     False\n",
            "85     False\n",
            "86     False\n",
            "87     False\n",
            "88     False\n",
            "89     False\n",
            "90     False\n",
            "91     False\n",
            "92     False\n",
            "93     False\n",
            "94     False\n",
            "95     False\n",
            "96     False\n",
            "97     False\n",
            "98     False\n",
            "99     False\n",
            "100    False\n",
            "101    False\n",
            "102    False\n",
            "104    False\n",
            "105    False\n",
            "106    False\n",
            "107    False\n",
            "108    False\n",
            "109    False\n",
            "110    False\n",
            "111    False\n",
            "112    False\n",
            "115    False\n",
            "116    False\n",
            "117    False\n",
            "118    False\n",
            "119    False\n",
            "120    False\n",
            "122    False\n",
            "123    False\n",
            "124    False\n",
            "125    False\n",
            "126    False\n",
            "127    False\n",
            "128    False\n",
            "129    False\n",
            "130    False\n",
            "131    False\n",
            "132    False\n",
            "133    False\n",
            "134    False\n",
            "135    False\n",
            "136    False\n",
            "137    False\n",
            "138    False\n",
            "139    False\n",
            "140    False\n",
            "141    False\n",
            "143    False\n",
            "144    False\n",
            "145    False\n",
            "147    False\n",
            "148    False\n",
            "149    False\n",
            "150    False\n",
            "151    False\n",
            "152    False\n",
            "153    False\n",
            "154    False\n",
            "156    False\n",
            "158    False\n",
            "159    False\n",
            "160    False\n",
            "161    False\n",
            "162    False\n",
            "163    False\n",
            "164    False\n",
            "165    False\n",
            "166    False\n",
            "167    False\n",
            "168    False\n"
          ]
        }
      ]
    },
    {
      "cell_type": "code",
      "source": [
        "#correlation\n",
        "df.corr()       # 0 - No relation, 1 - Strongly correlated, -1 - Strongly correlated but adversely"
      ],
      "metadata": {
        "colab": {
          "base_uri": "https://localhost:8080/",
          "height": 175
        },
        "id": "PP4yic2g72wu",
        "outputId": "6b759e94-7200-4c48-a184-18d4ebe6c0a2"
      },
      "execution_count": null,
      "outputs": [
        {
          "output_type": "execute_result",
          "data": {
            "text/plain": [
              "          Duration     Pulse  Maxpulse  Calories\n",
              "Duration  1.000000 -0.114127  0.003740       NaN\n",
              "Pulse    -0.114127  1.000000  0.602544       NaN\n",
              "Maxpulse  0.003740  0.602544  1.000000       NaN\n",
              "Calories       NaN       NaN       NaN       NaN"
            ],
            "text/html": [
              "\n",
              "  <div id=\"df-2817a8b6-5972-4d16-a1cf-16e27474b2ab\" class=\"colab-df-container\">\n",
              "    <div>\n",
              "<style scoped>\n",
              "    .dataframe tbody tr th:only-of-type {\n",
              "        vertical-align: middle;\n",
              "    }\n",
              "\n",
              "    .dataframe tbody tr th {\n",
              "        vertical-align: top;\n",
              "    }\n",
              "\n",
              "    .dataframe thead th {\n",
              "        text-align: right;\n",
              "    }\n",
              "</style>\n",
              "<table border=\"1\" class=\"dataframe\">\n",
              "  <thead>\n",
              "    <tr style=\"text-align: right;\">\n",
              "      <th></th>\n",
              "      <th>Duration</th>\n",
              "      <th>Pulse</th>\n",
              "      <th>Maxpulse</th>\n",
              "      <th>Calories</th>\n",
              "    </tr>\n",
              "  </thead>\n",
              "  <tbody>\n",
              "    <tr>\n",
              "      <th>Duration</th>\n",
              "      <td>1.000000</td>\n",
              "      <td>-0.114127</td>\n",
              "      <td>0.003740</td>\n",
              "      <td>NaN</td>\n",
              "    </tr>\n",
              "    <tr>\n",
              "      <th>Pulse</th>\n",
              "      <td>-0.114127</td>\n",
              "      <td>1.000000</td>\n",
              "      <td>0.602544</td>\n",
              "      <td>NaN</td>\n",
              "    </tr>\n",
              "    <tr>\n",
              "      <th>Maxpulse</th>\n",
              "      <td>0.003740</td>\n",
              "      <td>0.602544</td>\n",
              "      <td>1.000000</td>\n",
              "      <td>NaN</td>\n",
              "    </tr>\n",
              "    <tr>\n",
              "      <th>Calories</th>\n",
              "      <td>NaN</td>\n",
              "      <td>NaN</td>\n",
              "      <td>NaN</td>\n",
              "      <td>NaN</td>\n",
              "    </tr>\n",
              "  </tbody>\n",
              "</table>\n",
              "</div>\n",
              "    <div class=\"colab-df-buttons\">\n",
              "\n",
              "  <div class=\"colab-df-container\">\n",
              "    <button class=\"colab-df-convert\" onclick=\"convertToInteractive('df-2817a8b6-5972-4d16-a1cf-16e27474b2ab')\"\n",
              "            title=\"Convert this dataframe to an interactive table.\"\n",
              "            style=\"display:none;\">\n",
              "\n",
              "  <svg xmlns=\"http://www.w3.org/2000/svg\" height=\"24px\" viewBox=\"0 -960 960 960\">\n",
              "    <path d=\"M120-120v-720h720v720H120Zm60-500h600v-160H180v160Zm220 220h160v-160H400v160Zm0 220h160v-160H400v160ZM180-400h160v-160H180v160Zm440 0h160v-160H620v160ZM180-180h160v-160H180v160Zm440 0h160v-160H620v160Z\"/>\n",
              "  </svg>\n",
              "    </button>\n",
              "\n",
              "  <style>\n",
              "    .colab-df-container {\n",
              "      display:flex;\n",
              "      gap: 12px;\n",
              "    }\n",
              "\n",
              "    .colab-df-convert {\n",
              "      background-color: #E8F0FE;\n",
              "      border: none;\n",
              "      border-radius: 50%;\n",
              "      cursor: pointer;\n",
              "      display: none;\n",
              "      fill: #1967D2;\n",
              "      height: 32px;\n",
              "      padding: 0 0 0 0;\n",
              "      width: 32px;\n",
              "    }\n",
              "\n",
              "    .colab-df-convert:hover {\n",
              "      background-color: #E2EBFA;\n",
              "      box-shadow: 0px 1px 2px rgba(60, 64, 67, 0.3), 0px 1px 3px 1px rgba(60, 64, 67, 0.15);\n",
              "      fill: #174EA6;\n",
              "    }\n",
              "\n",
              "    .colab-df-buttons div {\n",
              "      margin-bottom: 4px;\n",
              "    }\n",
              "\n",
              "    [theme=dark] .colab-df-convert {\n",
              "      background-color: #3B4455;\n",
              "      fill: #D2E3FC;\n",
              "    }\n",
              "\n",
              "    [theme=dark] .colab-df-convert:hover {\n",
              "      background-color: #434B5C;\n",
              "      box-shadow: 0px 1px 3px 1px rgba(0, 0, 0, 0.15);\n",
              "      filter: drop-shadow(0px 1px 2px rgba(0, 0, 0, 0.3));\n",
              "      fill: #FFFFFF;\n",
              "    }\n",
              "  </style>\n",
              "\n",
              "    <script>\n",
              "      const buttonEl =\n",
              "        document.querySelector('#df-2817a8b6-5972-4d16-a1cf-16e27474b2ab button.colab-df-convert');\n",
              "      buttonEl.style.display =\n",
              "        google.colab.kernel.accessAllowed ? 'block' : 'none';\n",
              "\n",
              "      async function convertToInteractive(key) {\n",
              "        const element = document.querySelector('#df-2817a8b6-5972-4d16-a1cf-16e27474b2ab');\n",
              "        const dataTable =\n",
              "          await google.colab.kernel.invokeFunction('convertToInteractive',\n",
              "                                                    [key], {});\n",
              "        if (!dataTable) return;\n",
              "\n",
              "        const docLinkHtml = 'Like what you see? Visit the ' +\n",
              "          '<a target=\"_blank\" href=https://colab.research.google.com/notebooks/data_table.ipynb>data table notebook</a>'\n",
              "          + ' to learn more about interactive tables.';\n",
              "        element.innerHTML = '';\n",
              "        dataTable['output_type'] = 'display_data';\n",
              "        await google.colab.output.renderOutput(dataTable, element);\n",
              "        const docLink = document.createElement('div');\n",
              "        docLink.innerHTML = docLinkHtml;\n",
              "        element.appendChild(docLink);\n",
              "      }\n",
              "    </script>\n",
              "  </div>\n",
              "\n",
              "\n",
              "<div id=\"df-07082b9c-cdb7-4815-941a-497bf9dce200\">\n",
              "  <button class=\"colab-df-quickchart\" onclick=\"quickchart('df-07082b9c-cdb7-4815-941a-497bf9dce200')\"\n",
              "            title=\"Suggest charts\"\n",
              "            style=\"display:none;\">\n",
              "\n",
              "<svg xmlns=\"http://www.w3.org/2000/svg\" height=\"24px\"viewBox=\"0 0 24 24\"\n",
              "     width=\"24px\">\n",
              "    <g>\n",
              "        <path d=\"M19 3H5c-1.1 0-2 .9-2 2v14c0 1.1.9 2 2 2h14c1.1 0 2-.9 2-2V5c0-1.1-.9-2-2-2zM9 17H7v-7h2v7zm4 0h-2V7h2v10zm4 0h-2v-4h2v4z\"/>\n",
              "    </g>\n",
              "</svg>\n",
              "  </button>\n",
              "\n",
              "<style>\n",
              "  .colab-df-quickchart {\n",
              "      --bg-color: #E8F0FE;\n",
              "      --fill-color: #1967D2;\n",
              "      --hover-bg-color: #E2EBFA;\n",
              "      --hover-fill-color: #174EA6;\n",
              "      --disabled-fill-color: #AAA;\n",
              "      --disabled-bg-color: #DDD;\n",
              "  }\n",
              "\n",
              "  [theme=dark] .colab-df-quickchart {\n",
              "      --bg-color: #3B4455;\n",
              "      --fill-color: #D2E3FC;\n",
              "      --hover-bg-color: #434B5C;\n",
              "      --hover-fill-color: #FFFFFF;\n",
              "      --disabled-bg-color: #3B4455;\n",
              "      --disabled-fill-color: #666;\n",
              "  }\n",
              "\n",
              "  .colab-df-quickchart {\n",
              "    background-color: var(--bg-color);\n",
              "    border: none;\n",
              "    border-radius: 50%;\n",
              "    cursor: pointer;\n",
              "    display: none;\n",
              "    fill: var(--fill-color);\n",
              "    height: 32px;\n",
              "    padding: 0;\n",
              "    width: 32px;\n",
              "  }\n",
              "\n",
              "  .colab-df-quickchart:hover {\n",
              "    background-color: var(--hover-bg-color);\n",
              "    box-shadow: 0 1px 2px rgba(60, 64, 67, 0.3), 0 1px 3px 1px rgba(60, 64, 67, 0.15);\n",
              "    fill: var(--button-hover-fill-color);\n",
              "  }\n",
              "\n",
              "  .colab-df-quickchart-complete:disabled,\n",
              "  .colab-df-quickchart-complete:disabled:hover {\n",
              "    background-color: var(--disabled-bg-color);\n",
              "    fill: var(--disabled-fill-color);\n",
              "    box-shadow: none;\n",
              "  }\n",
              "\n",
              "  .colab-df-spinner {\n",
              "    border: 2px solid var(--fill-color);\n",
              "    border-color: transparent;\n",
              "    border-bottom-color: var(--fill-color);\n",
              "    animation:\n",
              "      spin 1s steps(1) infinite;\n",
              "  }\n",
              "\n",
              "  @keyframes spin {\n",
              "    0% {\n",
              "      border-color: transparent;\n",
              "      border-bottom-color: var(--fill-color);\n",
              "      border-left-color: var(--fill-color);\n",
              "    }\n",
              "    20% {\n",
              "      border-color: transparent;\n",
              "      border-left-color: var(--fill-color);\n",
              "      border-top-color: var(--fill-color);\n",
              "    }\n",
              "    30% {\n",
              "      border-color: transparent;\n",
              "      border-left-color: var(--fill-color);\n",
              "      border-top-color: var(--fill-color);\n",
              "      border-right-color: var(--fill-color);\n",
              "    }\n",
              "    40% {\n",
              "      border-color: transparent;\n",
              "      border-right-color: var(--fill-color);\n",
              "      border-top-color: var(--fill-color);\n",
              "    }\n",
              "    60% {\n",
              "      border-color: transparent;\n",
              "      border-right-color: var(--fill-color);\n",
              "    }\n",
              "    80% {\n",
              "      border-color: transparent;\n",
              "      border-right-color: var(--fill-color);\n",
              "      border-bottom-color: var(--fill-color);\n",
              "    }\n",
              "    90% {\n",
              "      border-color: transparent;\n",
              "      border-bottom-color: var(--fill-color);\n",
              "    }\n",
              "  }\n",
              "</style>\n",
              "\n",
              "  <script>\n",
              "    async function quickchart(key) {\n",
              "      const quickchartButtonEl =\n",
              "        document.querySelector('#' + key + ' button');\n",
              "      quickchartButtonEl.disabled = true;  // To prevent multiple clicks.\n",
              "      quickchartButtonEl.classList.add('colab-df-spinner');\n",
              "      try {\n",
              "        const charts = await google.colab.kernel.invokeFunction(\n",
              "            'suggestCharts', [key], {});\n",
              "      } catch (error) {\n",
              "        console.error('Error during call to suggestCharts:', error);\n",
              "      }\n",
              "      quickchartButtonEl.classList.remove('colab-df-spinner');\n",
              "      quickchartButtonEl.classList.add('colab-df-quickchart-complete');\n",
              "    }\n",
              "    (() => {\n",
              "      let quickchartButtonEl =\n",
              "        document.querySelector('#df-07082b9c-cdb7-4815-941a-497bf9dce200 button');\n",
              "      quickchartButtonEl.style.display =\n",
              "        google.colab.kernel.accessAllowed ? 'block' : 'none';\n",
              "    })();\n",
              "  </script>\n",
              "</div>\n",
              "\n",
              "    </div>\n",
              "  </div>\n"
            ],
            "application/vnd.google.colaboratory.intrinsic+json": {
              "type": "dataframe",
              "summary": "{\n  \"name\": \"df\",\n  \"rows\": 4,\n  \"fields\": [\n    {\n      \"column\": \"Duration\",\n      \"properties\": {\n        \"dtype\": \"number\",\n        \"std\": 0.6120602649715345,\n        \"min\": -0.11412710090189437,\n        \"max\": 1.0,\n        \"num_unique_values\": 3,\n        \"samples\": [\n          1.0,\n          -0.11412710090189437,\n          0.0037395618687890136\n        ],\n        \"semantic_type\": \"\",\n        \"description\": \"\"\n      }\n    },\n    {\n      \"column\": \"Pulse\",\n      \"properties\": {\n        \"dtype\": \"number\",\n        \"std\": 0.5646337487681434,\n        \"min\": -0.11412710090189437,\n        \"max\": 1.0,\n        \"num_unique_values\": 3,\n        \"samples\": [\n          -0.11412710090189437,\n          1.0,\n          0.6025435077289961\n        ],\n        \"semantic_type\": \"\",\n        \"description\": \"\"\n      }\n    },\n    {\n      \"column\": \"Maxpulse\",\n      \"properties\": {\n        \"dtype\": \"number\",\n        \"std\": 0.5015098352992885,\n        \"min\": 0.0037395618687890136,\n        \"max\": 1.0,\n        \"num_unique_values\": 3,\n        \"samples\": [\n          0.0037395618687890136,\n          0.6025435077289961,\n          1.0\n        ],\n        \"semantic_type\": \"\",\n        \"description\": \"\"\n      }\n    },\n    {\n      \"column\": \"Calories\",\n      \"properties\": {\n        \"dtype\": \"number\",\n        \"std\": null,\n        \"min\": null,\n        \"max\": null,\n        \"num_unique_values\": 0,\n        \"samples\": [],\n        \"semantic_type\": \"\",\n        \"description\": \"\"\n      }\n    }\n  ]\n}"
            }
          },
          "metadata": {},
          "execution_count": 119
        }
      ]
    },
    {
      "cell_type": "markdown",
      "source": [
        "#Data Visualisation\n"
      ],
      "metadata": {
        "id": "9SS_qAgD8j6I"
      }
    },
    {
      "cell_type": "code",
      "source": [
        "df.plot()"
      ],
      "metadata": {
        "colab": {
          "base_uri": "https://localhost:8080/",
          "height": 447
        },
        "id": "VBMqiMzF8jFU",
        "outputId": "44b4e936-0b49-479b-c057-af60f781cbed"
      },
      "execution_count": null,
      "outputs": [
        {
          "output_type": "execute_result",
          "data": {
            "text/plain": [
              "<Axes: >"
            ]
          },
          "metadata": {},
          "execution_count": 120
        },
        {
          "output_type": "display_data",
          "data": {
            "text/plain": [
              "<Figure size 640x480 with 1 Axes>"
            ],
            "image/png": "[encoded data removed]"
          },
          "metadata": {}
        }
      ]
    },
    {
      "cell_type": "code",
      "source": [
        "#Customise to make it more understandable\n",
        "df.plot(kind = 'scatter', x = 'Duration', y = 'Calories')"
      ],
      "metadata": {
        "colab": {
          "base_uri": "https://localhost:8080/",
          "height": 466
        },
        "id": "t2zz4JJF8wO6",
        "outputId": "8fedbd2f-02ab-4217-d94d-428e10291bba"
      },
      "execution_count": null,
      "outputs": [
        {
          "output_type": "execute_result",
          "data": {
            "text/plain": [
              "<Axes: xlabel='Duration', ylabel='Calories'>"
            ]
          },
          "metadata": {},
          "execution_count": 121
        },
        {
          "output_type": "display_data",
          "data": {
            "text/plain": [
              "<Figure size 640x480 with 1 Axes>"
            ],
            "image/png": "[encoded data removed]"
          },
          "metadata": {}
        }
      ]
    },
    {
      "cell_type": "code",
      "source": [
        "df.plot(kind = 'scatter', x = 'Duration', y = 'Maxpulse')"
      ],
      "metadata": {
        "colab": {
          "base_uri": "https://localhost:8080/",
          "height": 466
        },
        "id": "uzUCXt0X9R7-",
        "outputId": "33e05b47-7d94-4310-d2af-34404a60ca02"
      },
      "execution_count": null,
      "outputs": [
        {
          "output_type": "execute_result",
          "data": {
            "text/plain": [
              "<Axes: xlabel='Duration', ylabel='Maxpulse'>"
            ]
          },
          "metadata": {},
          "execution_count": 122
        },
        {
          "output_type": "display_data",
          "data": {
            "text/plain": [
              "<Figure size 640x480 with 1 Axes>"
            ],
            "image/png": "[encoded data removed]"
          },
          "metadata": {}
        }
      ]
    },
    {
      "cell_type": "code",
      "source": [
        "df[\"Duration\"].plot(kind = 'hist')"
      ],
      "metadata": {
        "colab": {
          "base_uri": "https://localhost:8080/",
          "height": 447
        },
        "id": "Hro4vBwc9Wpp",
        "outputId": "04892340-3535-45bf-cf63-0b7dbd150740"
      },
      "execution_count": null,
      "outputs": [
        {
          "output_type": "execute_result",
          "data": {
            "text/plain": [
              "<Axes: ylabel='Frequency'>"
            ]
          },
          "metadata": {},
          "execution_count": 123
        },
        {
          "output_type": "display_data",
          "data": {
            "text/plain": [
              "<Figure size 640x480 with 1 Axes>"
            ],
            "image/png": "[encoded data removed]"
          },
          "metadata": {}
        }
      ]
    }
  ]
}