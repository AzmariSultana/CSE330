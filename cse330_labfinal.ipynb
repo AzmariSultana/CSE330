{
  "nbformat": 4,
  "nbformat_minor": 0,
  "metadata": {
    "colab": {
      "provenance": [],
      "authorship_tag": "ABX9TyPoRwnNWmuU/zT+Bd1uKQT/",
      "include_colab_link": true
    },
    "kernelspec": {
      "name": "python3",
      "display_name": "Python 3"
    },
    "language_info": {
      "name": "python"
    }
  },
  "cells": [
    {
      "cell_type": "markdown",
      "metadata": {
        "id": "view-in-github",
        "colab_type": "text"
      },
      "source": [
        "<a href=\"https://colab.research.google.com/github/AzmariSultana/CSE330/blob/lab/cse330_labfinal.ipynb\" target=\"_parent\"><img src=\"https://colab.research.google.com/assets/colab-badge.svg\" alt=\"Open In Colab\"/></a>"
      ]
    },
    {
      "cell_type": "code",
      "execution_count": 59,
      "metadata": {
        "id": "syVZcuaoL2Il"
      },
      "outputs": [],
      "source": [
        "import numpy as np\n",
        "from numpy.polynomial import Polynomial"
      ]
    },
    {
      "cell_type": "code",
      "source": [
        "#question1(a)\n",
        "p1=Polynomial([81,-11,0,1])\n",
        "print(p1([8]))"
      ],
      "metadata": {
        "colab": {
          "base_uri": "https://localhost:8080/"
        },
        "id": "WS_RHl8OOmUp",
        "outputId": "946fc42b-043a-4d4e-cdd3-8e3c26bfc14d"
      },
      "execution_count": 60,
      "outputs": [
        {
          "output_type": "stream",
          "name": "stdout",
          "text": [
            "[505.]\n"
          ]
        }
      ]
    },
    {
      "cell_type": "code",
      "source": [
        "#question1(b)\n",
        "p2=p1.deriv(2)\n",
        "p3=p1.deriv(3)\n",
        "p1=p1([3])\n",
        "p2=p2([3])\n",
        "p3=p3([3])\n",
        "temp=(p1+p2)/((p3)**2)\n",
        "print(round(temp[0],5))\n",
        "\n"
      ],
      "metadata": {
        "colab": {
          "base_uri": "https://localhost:8080/"
        },
        "id": "AEoUPnY6O_sk",
        "outputId": "24b72f8b-8b7e-4bda-aa18-4a5c429cba1e"
      },
      "execution_count": 61,
      "outputs": [
        {
          "output_type": "stream",
          "name": "stdout",
          "text": [
            "2.58333\n"
          ]
        }
      ]
    },
    {
      "cell_type": "code",
      "source": [
        "##question2\n",
        "def calc_lagrange_basis(x, eval_x):\n",
        "    Arr = []\n",
        "    result = 1\n",
        "    for i in range(len(x)):\n",
        "        for j in range(len(x)):\n",
        "            if i != j:\n",
        "                result *= ((2*(x[i]) - x[j]) / (3*(x[i]) - eval_x))\n",
        "        Arr.append(result)\n",
        "        result = 1\n",
        "    return Arr\n",
        "\n",
        "def Lagrange(y, Lagrange_Basis):\n",
        "    result = 0\n",
        "    for i in range(len(y)):\n",
        "        result += y[i] * Lagrange_Basis[i]\n",
        "    return result\n",
        "\n",
        "# Driver Code\n",
        "x=[0,3,5,7]\n",
        "y=[0,20,90,85]\n",
        "eval_x=2\n",
        "\n",
        "Lagrange_Basis= calc_lagrange_basis(x,eval_x)\n",
        "print(Lagrange_Basis)\n",
        "P_x=Lagrange(y,Lagrange_Basis)\n",
        "print(f\"\\nInterpolated value P({eval_x})={P_x}\")"
      ],
      "metadata": {
        "colab": {
          "base_uri": "https://localhost:8080/"
        },
        "id": "9xuqnYK-XHXX",
        "outputId": "0c5ee86d-0ba2-446e-f002-793303b9c035"
      },
      "execution_count": 62,
      "outputs": [
        {
          "output_type": "stream",
          "name": "stdout",
          "text": [
            "[13.125, -0.017492711370262388, 0.09558488848429678, 0.2020702726344948]\n",
            "\n",
            "Interpolated value P(2)=25.428758910113523\n"
          ]
        }
      ]
    },
    {
      "cell_type": "code",
      "source": [
        "#question3\n",
        "f = Polynomial([7, 3, -5, 2])\n",
        "f_prime = f.deriv(1)\n",
        "x = 2\n",
        "h = 0.4\n",
        "tolerance = 0.0025\n",
        "reductions = 0\n",
        "actual_deriv = f_prime(x)\n",
        "\n",
        "\n",
        "\n",
        "def forward_difference(f, x, h):\n",
        "    return (f(x + h) - f(x)) / h\n",
        "\n",
        "\n",
        "def error(f, f_prime, h, x, tolerance):\n",
        "  reductions = 0\n",
        "  while True:\n",
        "    approx_deriv = forward_difference(f, x, h)\n",
        "    error = abs(actual_deriv-approx_deriv)\n",
        "\n",
        "    if error > tolerance:\n",
        "        h /= 2\n",
        "        reductions += 1\n",
        "    else:\n",
        "        break\n",
        "  print(f\"Final absolute error: {error}\")\n",
        "  print(f\"Min h: {h}\")\n",
        "  print(f\"reductions: {reductions}\")\n",
        "\n",
        "#driver code\n",
        "error(f,f_prime,h,x,tolerance)"
      ],
      "metadata": {
        "colab": {
          "base_uri": "https://localhost:8080/"
        },
        "id": "162zai6lT7Kq",
        "outputId": "9391a1d2-d9d7-429e-cc4b-00f5c1ee1dbe"
      },
      "execution_count": 63,
      "outputs": [
        {
          "output_type": "stream",
          "name": "stdout",
          "text": [
            "Final absolute error: 0.0013672637833224144\n",
            "Min h: 0.0001953125\n",
            "reductions: 11\n"
          ]
        }
      ]
    }
  ]
}